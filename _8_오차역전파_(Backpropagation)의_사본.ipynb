{
  "nbformat": 4,
  "nbformat_minor": 0,
  "metadata": {
    "colab": {
      "name": "_8 오차역전파 (Backpropagation)의 사본",
      "provenance": [],
      "collapsed_sections": [],
      "toc_visible": true,
      "include_colab_link": true
    },
    "kernelspec": {
      "name": "python3",
      "display_name": "Python 3"
    }
  },
  "cells": [
    {
      "cell_type": "markdown",
      "metadata": {
        "id": "view-in-github",
        "colab_type": "text"
      },
      "source": [
        "<a href=\"https://colab.research.google.com/github/tigerH/KISS/blob/main/_8_%EC%98%A4%EC%B0%A8%EC%97%AD%EC%A0%84%ED%8C%8C_(Backpropagation)%EC%9D%98_%EC%82%AC%EB%B3%B8.ipynb\" target=\"_parent\"><img src=\"https://colab.research.google.com/assets/colab-badge.svg\" alt=\"Open In Colab\"/></a>"
      ]
    },
    {
      "cell_type": "markdown",
      "metadata": {
        "id": "S9Db_VsP_m1S"
      },
      "source": [
        "## 오차역전파 (Backpropagation)\n"
      ]
    },
    {
      "cell_type": "markdown",
      "metadata": {
        "id": "8Vdi2PAG_3lW"
      },
      "source": [
        "### 오차역전파 알고리즘\n",
        "- 학습 데이터로 정방향(forward) 연산을 통해 손실함수 값(loss)을 구함\n",
        "\n",
        "- 각 layer별로 역전파학습을 위해 중간값을 저장\n",
        "\n",
        "- 손실함수를 학습 파라미터(가중치, 편향)로 미분하여  \n",
        "  마지막 layer로부터 앞으로 하나씩 연쇄법칙을 이용하여 미분\n",
        "  각 layer를 통과할 때마다 저장된 값을 이용\n",
        "\n",
        "- 오류(error)를 전달하면서 학습 파라미터를 조금씩 갱신\n"
      ]
    },
    {
      "cell_type": "markdown",
      "metadata": {
        "id": "-o545ezeUuSB"
      },
      "source": [
        "### 오차역전파 학습의 특징\n",
        "- 손실함수를 통한 평가를 한 번만 하고, 연쇄법칙을 이용한 미분을 활용하기 때문에  \n",
        "  학습 소요시간이 매우 단축!\n",
        "\n",
        "- 미분을 위한 중간값을 모두 저장하기 때문에 메모리를 많이 사용\n"
      ]
    },
    {
      "cell_type": "markdown",
      "metadata": {
        "id": "CFoTt-ds_w8C"
      },
      "source": [
        "### 신경망 학습에 있어서 미분가능의 중요성\n",
        "- 경사하강법(Gradient Descent)에서 손실 함수(cost function)의 최소값,  \n",
        "  즉, 최적값을 찾기 위한 방법으로 미분을 활용\n",
        "\n",
        "- 미분을 통해 손실 함수의 학습 매개변수(trainable parameter)를 갱신하여  \n",
        "  모델의 가중치의 최적값을 찾는 과정\n",
        "\n",
        "![](https://i.pinimg.com/originals/5d/13/20/5d1320c7b672710834e63b95a7c1037b.png)\n",
        "\n",
        "<sub>출처: https://www.pinterest.co.kr/pin/424816177350692379/</sub>"
      ]
    },
    {
      "cell_type": "markdown",
      "metadata": {
        "id": "ilYRMqLeQf6Z"
      },
      "source": [
        "### 합성함수의 미분 (연쇄법칙, chain rule)\n",
        "\n",
        "## $\\qquad \\frac{d}{dx} [f(g(x))] = f^\\prime(g(x))g^\\prime(x)$  \n",
        " \n",
        "\n",
        "- 여러 개 연속으로 사용가능  \n",
        "  ## $ \\quad \\frac{\\partial f}{\\partial x} = \\frac{\\partial f}{\\partial u} \\times \\frac{\\partial u}{\\partial m} \\times \\frac{\\partial m}{\\partial n} \\times \\ ... \\ \\frac{\\partial l}{\\partial k} \\times \\frac{\\partial k}{\\partial g} \\times \\frac{\\partial g}{\\partial x} \n",
        "  $\n",
        "- 각각에 대해 편미분 적용가능\n",
        "\n",
        "![](https://cdn-media-1.freecodecamp.org/images/1*_KMMFvRP5X9kC59brI0ykw.png)\n",
        "<sub>출처: https://www.freecodecamp.org/news/demystifying-gradient-descent-and-backpropagation-via-logistic-regression-based-image-classification-9b5526c2ed46/</sub>\n",
        "\n",
        "- **오차역전파의 직관적 이해**\n",
        "  - 학습을 진행하면서, 즉 손실함수의 최소값(minimum)을 찾아가는 과정에서 가중치 또는 편향의 변화에 따라 얼마나 영향을 받는지 알 수 있음\n",
        "\n"
      ]
    },
    {
      "cell_type": "markdown",
      "metadata": {
        "id": "6NLF8CXiQkuL"
      },
      "source": [
        "#### 합성함수 미분(chain rule) 예제\n",
        "\n",
        "![](https://miro.medium.com/max/1000/1*azqHvbrNsZ8AIZ7H75tbIQ.jpeg)\n",
        "\n",
        "<sub>출처: https://medium.com/spidernitt/breaking-down-neural-networks-an-intuitive-approach-to-backpropagation-3b2ff958794c</sub>\n",
        "\n",
        "  #### $\\quad a=-1, \\ b=3, \\ c=4$,\n",
        "  #### $\\quad x = a + b, \\ y = b + c, \\ f = x * y \\ 일 때$    \n",
        "\n",
        "\n",
        "\n",
        "  ### $\\quad \\begin{matrix}\\frac{\\partial f}{\\partial x} &=& y\\ + \\ x \\ \\frac{\\partial y}{\\partial x} \\\\\n",
        "  &=& (b \\ + \\ c) \\ + \\ (a \\ +\\ b)\\ \\times \\ 0 \\\\\n",
        "  &=& 7 \\end{matrix}$\n",
        "\n",
        "  ### $\\quad \\begin{matrix}\\frac{\\partial f}{\\partial y} &=& x\\ + \\ \\frac{\\partial x}{\\partial y} \\ y \\\\\n",
        "  &=& (a \\ + \\ b) \\ + \\ 0 \\times (b \\ +\\ c) \\\\\n",
        "  &=& 2 \\end{matrix}$\n",
        "\n",
        "   <br>\n",
        "\n",
        "  ### $ \\quad \\begin{matrix} \\frac{\\partial x}{\\partial a} &=& 1 \\ + \\ a \\ \\frac{\\partial b}{\\partial a} \\\\\n",
        "  &=& 1 \\end{matrix} $\n",
        "  ### $ \\quad \\begin{matrix} \\frac{\\partial y}{\\partial c} &=& \\frac{\\partial b}{\\partial c}\\ + 1 \\\\\n",
        "   &=& 1 \\end{matrix} $\n",
        "  \n",
        "  <br>\n",
        "\n",
        "  ### $ \\quad \\begin{matrix} \\frac{\\partial f}{\\partial a} &=& \\frac{\\partial f}{\\partial x} \\times \\frac{\\partial x}{\\partial a} \\\\\n",
        "  &=& y \\times 1 \\\\ \n",
        "  &=& 7 \\times 1 = 7 \\\\\n",
        "  &=& 7  \\end{matrix} $\n",
        "    \n",
        "  ### $ \\quad \\begin{matrix} \\frac{\\partial f}{\\partial b}\\ \n",
        "  &=& \\frac{\\partial x}{\\partial b} \\ y \\ + \\ x \\ \\frac{\\partial y}{\\partial b}  \\\\\n",
        "  &=& 1 \\times 7 + 2 \\times 1  \\\\\n",
        "  &=& 9 \\end{matrix} $\n",
        "  \n",
        "\n",
        "  \n",
        "  "
      ]
    },
    {
      "cell_type": "markdown",
      "metadata": {
        "id": "2PgmdJN0Qtdw"
      },
      "source": [
        "### 덧셈, 곱셈 계층의 역전파\n",
        "- 위 예제를 통해 아래 사항을 알 수 있음\n",
        "\n",
        "  #### 1. $\\quad z = x + y$ 일 때,\n",
        "  ## $\\frac{\\partial z}{\\partial x} = 1, \\frac{\\partial z}{\\partial y} = 1 $\n",
        "\n",
        "  #### 2. $\\quad t = xy$ 일 때,\n",
        "  ## $\\frac{\\partial t}{\\partial x} = y, \\frac{\\partial t}{\\partial y} = x$\n"
      ]
    },
    {
      "cell_type": "code",
      "metadata": {
        "id": "hShSxvW5WMqi"
      },
      "source": [
        ""
      ],
      "execution_count": null,
      "outputs": []
    },
    {
      "cell_type": "code",
      "metadata": {
        "id": "1bovOx6UQvLP"
      },
      "source": [
        ""
      ],
      "execution_count": null,
      "outputs": []
    },
    {
      "cell_type": "code",
      "metadata": {
        "id": "e3RawqlUQwp0"
      },
      "source": [
        ""
      ],
      "execution_count": null,
      "outputs": []
    },
    {
      "cell_type": "code",
      "metadata": {
        "id": "soyk-HWiSnwh"
      },
      "source": [
        ""
      ],
      "execution_count": null,
      "outputs": []
    },
    {
      "cell_type": "code",
      "metadata": {
        "id": "FhPPrFIqSpq1"
      },
      "source": [
        ""
      ],
      "execution_count": null,
      "outputs": []
    },
    {
      "cell_type": "markdown",
      "metadata": {
        "id": "dMfl0J1uWgiY"
      },
      "source": [
        "![](https://miro.medium.com/max/2000/1*U3mVDYuvnaLhJzIFw_d5qQ.png)\n",
        "<sub>출처: https://medium.com/spidernitt/breaking-down-neural-networks-an-intuitive-approach-to-backpropagation-3b2ff958794c</sub>"
      ]
    },
    {
      "cell_type": "markdown",
      "metadata": {
        "id": "byODNRUF5fbv"
      },
      "source": [
        "### 활성화 함수(Activation)에서의 역전파"
      ]
    },
    {
      "cell_type": "markdown",
      "metadata": {
        "id": "OkRurUgm5hqn"
      },
      "source": [
        "#### 시그모이드(Sigmoid) 함수\n",
        "\n",
        "![](https://media.geeksforgeeks.org/wp-content/uploads/20190911181329/Screenshot-2019-09-11-18.05.46.png)\n",
        "\n",
        "<sub>출처: https://www.geeksforgeeks.org/implement-sigmoid-function-using-numpy/</sub>\n",
        "\n",
        "- 수식 \n",
        "  # $\\quad y = \\frac{1}{1 + e^{-x}} $일 때,\n",
        "\n",
        "  ## $\\quad \\begin{matrix}y' &=& (\\frac{1}{1 + e^{-x}})' \\\\\n",
        "  &=& \\frac{-1}{(1 + e^{-x})^2}\\ \\times \\ (-e^{-x}) \\\\\n",
        "  &=& \\frac{1}{1 + e^{-x}} \\ \\times \\ \\frac{e^{-x}}{1 + e^{-x}} \\\\\n",
        "  &=& \\frac{1}{1 + e^{-x}} \\ \\times \\ (1 - \\frac{1}{1 + e^{-x}}) \\\\\n",
        "  &=& y\\ (1\\ - \\ y)\n",
        "  \\end{matrix}$"
      ]
    },
    {
      "cell_type": "code",
      "metadata": {
        "id": "DNWIw7ElVhLK"
      },
      "source": [
        ""
      ],
      "execution_count": null,
      "outputs": []
    },
    {
      "cell_type": "markdown",
      "metadata": {
        "id": "QWZ247xo5mtv"
      },
      "source": [
        "#### ReLU 함수\n",
        "\n",
        "![](https://3qeqpr26caki16dnhd19sv6by6v-wpengine.netdna-ssl.com/wp-content/uploads/2018/10/Line-Plot-of-Rectified-Linear-Activation-for-Negative-and-Positive-Inputs.png)\n",
        "\n",
        "<sub>출처: https://machinelearningmastery.com/rectified-linear-activation-function-for-deep-learning-neural-networks/</sub>\n",
        "\n",
        "\n",
        "- 수식  \n",
        "\n",
        "  ### $\\qquad y=\n",
        "  \\begin{cases}\n",
        "  x & (x \\ge 0)  \\\\\n",
        "  0 & (x < 0)\n",
        "  \\end{cases}$ 일 때,\n",
        "\n",
        "  <br>\n",
        "\n",
        "  ### $\\qquad \\frac{\\partial y}{\\partial x}=\n",
        "  \\begin{cases}\n",
        "  1 & (x \\ge 0)  \\\\\n",
        "  0 & (x < 0)\n",
        "  \\end{cases}$"
      ]
    },
    {
      "cell_type": "code",
      "metadata": {
        "id": "hHcPmAzh5nOZ"
      },
      "source": [
        ""
      ],
      "execution_count": null,
      "outputs": []
    },
    {
      "cell_type": "markdown",
      "metadata": {
        "id": "MH_kQzedJFfw"
      },
      "source": [
        "### 행렬 연산에 대한 역전파\n",
        "\n",
        "# $\\qquad Y = X \\bullet W + B$"
      ]
    },
    {
      "cell_type": "markdown",
      "metadata": {
        "id": "W-SedVrpJILw"
      },
      "source": [
        "#### 순전파(forward)\n",
        "  \n",
        "  - 형상(shape)을 맞춰줘야함\n",
        "  - 앞서 봤던 곱셈, 덧셈 계층을 합친 형태"
      ]
    },
    {
      "cell_type": "code",
      "metadata": {
        "id": "QKIO7EzSJGD1"
      },
      "source": [
        ""
      ],
      "execution_count": null,
      "outputs": []
    },
    {
      "cell_type": "code",
      "metadata": {
        "id": "Tqvl76fFJNfU"
      },
      "source": [
        ""
      ],
      "execution_count": null,
      "outputs": []
    },
    {
      "cell_type": "code",
      "metadata": {
        "id": "vTjJIvg9JPMV"
      },
      "source": [
        ""
      ],
      "execution_count": null,
      "outputs": []
    },
    {
      "cell_type": "code",
      "metadata": {
        "id": "QnB0hE6YJQuD"
      },
      "source": [
        ""
      ],
      "execution_count": null,
      "outputs": []
    },
    {
      "cell_type": "markdown",
      "metadata": {
        "id": "04GHZHAiJUGl"
      },
      "source": [
        "#### 역전파(1)\n",
        "\n",
        "##  $\\  Y = X \\bullet W$\n",
        "- $X :\\ \\ (2,\\ )$\n",
        "\n",
        "- $W :\\ \\ (2,\\ 3)$\n",
        "\n",
        "- $X \\bullet W :\\ \\ (3,\\ )$\n",
        "\n",
        "- $\\frac{\\partial L}{\\partial Y} :\\ \\ (3,\\ )$\n",
        "\n",
        "- $\\frac{\\partial L}{\\partial X} = \\frac{\\partial L}{\\partial Y}\\bullet W^T ,\\ (2,\\ )$\n",
        "\n",
        "- $\\frac{\\partial L}{\\partial W} = X^T \\bullet \\frac{\\partial L}{\\partial Y} ,\\ (2,\\ 3)$\n",
        "\n"
      ]
    },
    {
      "cell_type": "code",
      "metadata": {
        "id": "DCruMHCGJSHK"
      },
      "source": [
        ""
      ],
      "execution_count": null,
      "outputs": []
    },
    {
      "cell_type": "code",
      "metadata": {
        "id": "TEvyFXedJWC7"
      },
      "source": [
        ""
      ],
      "execution_count": null,
      "outputs": []
    },
    {
      "cell_type": "markdown",
      "metadata": {
        "id": "uuOVqySWJauS"
      },
      "source": [
        "#### 역전파(2)\n",
        "\n",
        "## $\\ (2)\\  Y = X \\bullet W + B$\n",
        "- $X, W$는 위와 동일\n",
        "\n",
        "- $B: \\ (3, )$\n",
        "\n",
        "- $\\frac{\\partial L}{\\partial B} = \\frac{\\partial L}{\\partial Y}, \\ (3,\\ )$"
      ]
    },
    {
      "cell_type": "code",
      "metadata": {
        "id": "D_Jb9sY8JYGB"
      },
      "source": [
        ""
      ],
      "execution_count": null,
      "outputs": []
    },
    {
      "cell_type": "code",
      "metadata": {
        "id": "frdvKz8oJcoZ"
      },
      "source": [
        ""
      ],
      "execution_count": null,
      "outputs": []
    },
    {
      "cell_type": "markdown",
      "metadata": {
        "id": "0FrBSUsRJgFl"
      },
      "source": [
        "#### 배치용 행렬 내적 계층\n",
        "- N개의 데이터에 대해,  \n",
        "# $\\qquad Y = X \\bullet W + B$\n",
        "\n",
        "  - $X : \\quad  (N,\\ 3)$\n",
        "\n",
        "  - $W : \\quad  (3,\\ 2)$\n",
        "\n",
        "  - $B : \\quad  (2,\\ )$\n",
        "  "
      ]
    },
    {
      "cell_type": "code",
      "metadata": {
        "id": "AoWx5fDnJd-2"
      },
      "source": [
        ""
      ],
      "execution_count": null,
      "outputs": []
    },
    {
      "cell_type": "code",
      "metadata": {
        "id": "EqhSX54BJmPQ"
      },
      "source": [
        ""
      ],
      "execution_count": null,
      "outputs": []
    },
    {
      "cell_type": "code",
      "metadata": {
        "id": "_1IOOfhuJqF-"
      },
      "source": [
        ""
      ],
      "execution_count": null,
      "outputs": []
    },
    {
      "cell_type": "code",
      "metadata": {
        "id": "TOKsN2NHJrqT"
      },
      "source": [
        ""
      ],
      "execution_count": null,
      "outputs": []
    },
    {
      "cell_type": "code",
      "metadata": {
        "id": "YjIYrXGaJtEz"
      },
      "source": [
        ""
      ],
      "execution_count": null,
      "outputs": []
    },
    {
      "cell_type": "code",
      "metadata": {
        "id": "twG43EylJvC-"
      },
      "source": [
        ""
      ],
      "execution_count": null,
      "outputs": []
    },
    {
      "cell_type": "code",
      "metadata": {
        "id": "CrCDxHw5Jw3S"
      },
      "source": [
        ""
      ],
      "execution_count": null,
      "outputs": []
    },
    {
      "cell_type": "code",
      "metadata": {
        "id": "boKm8OIgJyJy"
      },
      "source": [
        ""
      ],
      "execution_count": null,
      "outputs": []
    },
    {
      "cell_type": "markdown",
      "metadata": {
        "id": "Bz-0zFPpJ3Jz"
      },
      "source": [
        "### MNIST 분류 with 역전파\n"
      ]
    },
    {
      "cell_type": "markdown",
      "metadata": {
        "id": "eW3InPxBJ6qo"
      },
      "source": [
        "#### Modules Import"
      ]
    },
    {
      "cell_type": "code",
      "metadata": {
        "id": "ZKtAhkm4J2Z3"
      },
      "source": [
        ""
      ],
      "execution_count": null,
      "outputs": []
    },
    {
      "cell_type": "markdown",
      "metadata": {
        "id": "F1_2_jGMKGiT"
      },
      "source": [
        "#### 데이터 로드"
      ]
    },
    {
      "cell_type": "code",
      "metadata": {
        "id": "S3SQq80sJ8mR"
      },
      "source": [
        ""
      ],
      "execution_count": null,
      "outputs": []
    },
    {
      "cell_type": "markdown",
      "metadata": {
        "id": "mv_pjKdxKKIy"
      },
      "source": [
        "#### 데이터 전처리"
      ]
    },
    {
      "cell_type": "code",
      "metadata": {
        "id": "B95lI86tKIyY"
      },
      "source": [
        ""
      ],
      "execution_count": null,
      "outputs": []
    },
    {
      "cell_type": "code",
      "metadata": {
        "id": "ar7DZIlMKLjJ"
      },
      "source": [
        ""
      ],
      "execution_count": null,
      "outputs": []
    },
    {
      "cell_type": "markdown",
      "metadata": {
        "id": "Oye4pC82KPbg"
      },
      "source": [
        "#### Hyper Parameters"
      ]
    },
    {
      "cell_type": "code",
      "metadata": {
        "id": "rFeXORJjKM7s"
      },
      "source": [
        ""
      ],
      "execution_count": null,
      "outputs": []
    },
    {
      "cell_type": "markdown",
      "metadata": {
        "id": "cIdzuyRDKSm0"
      },
      "source": [
        "#### Util Functions"
      ]
    },
    {
      "cell_type": "code",
      "metadata": {
        "id": "8E2_fN1dKRzv"
      },
      "source": [
        ""
      ],
      "execution_count": null,
      "outputs": []
    },
    {
      "cell_type": "markdown",
      "metadata": {
        "id": "SBvWUNh-KY2R"
      },
      "source": [
        "#### Util Classes"
      ]
    },
    {
      "cell_type": "markdown",
      "metadata": {
        "id": "rc0sLXWJs8Dq"
      },
      "source": [
        "##### ReLU"
      ]
    },
    {
      "cell_type": "code",
      "metadata": {
        "id": "ej2m6Robs-uJ"
      },
      "source": [
        ""
      ],
      "execution_count": null,
      "outputs": []
    },
    {
      "cell_type": "markdown",
      "metadata": {
        "id": "RucLfG0EtYcf"
      },
      "source": [
        "##### Sigmoid"
      ]
    },
    {
      "cell_type": "code",
      "metadata": {
        "id": "TWoPmtpNtZ__"
      },
      "source": [
        ""
      ],
      "execution_count": null,
      "outputs": []
    },
    {
      "cell_type": "markdown",
      "metadata": {
        "id": "IZZeNtd-tuM5"
      },
      "source": [
        "##### Layer"
      ]
    },
    {
      "cell_type": "code",
      "metadata": {
        "id": "NEcCZ4bFtzgq"
      },
      "source": [
        ""
      ],
      "execution_count": null,
      "outputs": []
    },
    {
      "cell_type": "markdown",
      "metadata": {
        "id": "s1Yqp7kVvOoD"
      },
      "source": [
        "#### Softmax"
      ]
    },
    {
      "cell_type": "code",
      "metadata": {
        "id": "0RXBVEMdvP9r"
      },
      "source": [
        ""
      ],
      "execution_count": null,
      "outputs": []
    },
    {
      "cell_type": "code",
      "metadata": {
        "id": "sX4I-bKfuRaq"
      },
      "source": [
        ""
      ],
      "execution_count": null,
      "outputs": []
    },
    {
      "cell_type": "markdown",
      "metadata": {
        "id": "LwyNo3TsyDZR"
      },
      "source": [
        "#### 모델 생성 및 학습"
      ]
    },
    {
      "cell_type": "code",
      "metadata": {
        "id": "Du5naLufxMvv"
      },
      "source": [
        ""
      ],
      "execution_count": null,
      "outputs": []
    },
    {
      "cell_type": "code",
      "metadata": {
        "id": "Rb0HhW9x0mrN"
      },
      "source": [
        ""
      ],
      "execution_count": null,
      "outputs": []
    },
    {
      "cell_type": "code",
      "metadata": {
        "id": "VV5PciwAxM6s"
      },
      "source": [
        ""
      ],
      "execution_count": null,
      "outputs": []
    },
    {
      "cell_type": "code",
      "metadata": {
        "id": "dqqlZOF6KjDl"
      },
      "source": [
        ""
      ],
      "execution_count": null,
      "outputs": []
    },
    {
      "cell_type": "code",
      "metadata": {
        "id": "_BwHrt9nP8y8"
      },
      "source": [
        ""
      ],
      "execution_count": null,
      "outputs": []
    }
  ]
}
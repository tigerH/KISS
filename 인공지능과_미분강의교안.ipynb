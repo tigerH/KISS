{
  "nbformat": 4,
  "nbformat_minor": 0,
  "metadata": {
    "colab": {
      "name": "인공지능과 미분강의교안",
      "provenance": [],
      "collapsed_sections": [],
      "toc_visible": true,
      "authorship_tag": "ABX9TyOY+se670w81fDf5HaWjvbD",
      "include_colab_link": true
    },
    "kernelspec": {
      "name": "python3",
      "display_name": "Python 3"
    },
    "language_info": {
      "name": "python"
    }
  },
  "cells": [
    {
      "cell_type": "markdown",
      "metadata": {
        "id": "view-in-github",
        "colab_type": "text"
      },
      "source": [
        "<a href=\"https://colab.research.google.com/github/tigerH/KISS/blob/main/%EC%9D%B8%EA%B3%B5%EC%A7%80%EB%8A%A5%EA%B3%BC_%EB%AF%B8%EB%B6%84%EA%B0%95%EC%9D%98%EA%B5%90%EC%95%88.ipynb\" target=\"_parent\"><img src=\"https://colab.research.google.com/assets/colab-badge.svg\" alt=\"Open In Colab\"/></a>"
      ]
    },
    {
      "cell_type": "markdown",
      "metadata": {
        "id": "lIqV0KQweKjM"
      },
      "source": [
        "# 2. 인공지능과 미분"
      ]
    },
    {
      "cell_type": "markdown",
      "metadata": {
        "id": "Mjirto7CeVbA"
      },
      "source": [
        "# 2.1. 함수의 극한과 연속\n"
      ]
    },
    {
      "cell_type": "markdown",
      "metadata": {
        "id": "-MQpQTYTq0t8"
      },
      "source": [
        "2.1.1. 함수의 극한"
      ]
    },
    {
      "cell_type": "markdown",
      "metadata": {
        "id": "JIUlRz8SvrEv"
      },
      "source": [
        "함수의 극한이란?"
      ]
    },
    {
      "cell_type": "markdown",
      "metadata": {
        "id": "OX_CWs_kq0bv"
      },
      "source": [
        "2.2.2. 함수의 연속"
      ]
    },
    {
      "cell_type": "markdown",
      "metadata": {
        "id": "1HgL0sxQvton"
      },
      "source": [
        "함수의 연속이란?"
      ]
    },
    {
      "cell_type": "markdown",
      "metadata": {
        "id": "5-GHSDCXxijE"
      },
      "source": [
        "2.2.3. 예제  . "
      ]
    },
    {
      "cell_type": "code",
      "metadata": {
        "id": "HKC-qDIZq0FF"
      },
      "source": [
        "# 파이썬 sympy 라이브러리에서 Limit, S, Symbol 클래스를 호출한다.\n",
        "from sympy import Limit, S, Symbol\n",
        "\n",
        "# x 변수를 생성하고, x가 0으로 한없이 가까워질 때의 1/x에 대한 극한값을 구한다.\n",
        "x=Symbol('x')\n",
        "Limit(1/x, x, S.Infinity).doit()"
      ],
      "execution_count": null,
      "outputs": []
    },
    {
      "cell_type": "code",
      "metadata": {
        "id": "atbPeu0nqzyv"
      },
      "source": [
        "Limit(1/x, x, 0).doit()          # 우극한 값 구하기"
      ],
      "execution_count": null,
      "outputs": []
    },
    {
      "cell_type": "code",
      "metadata": {
        "id": "ZsrjxVdJraUP"
      },
      "source": [
        "Limit(1/x, x, 0, dir='-').doit()  # 좌극한 값 구하기 "
      ],
      "execution_count": null,
      "outputs": []
    },
    {
      "cell_type": "markdown",
      "metadata": {
        "id": "HLgW2uiIqzBt"
      },
      "source": [
        "# 2.2 다항함수의 미분"
      ]
    },
    {
      "cell_type": "markdown",
      "metadata": {
        "id": "Su_uIPAauNpR"
      },
      "source": [
        "2.2.1. 평균변화율"
      ]
    },
    {
      "cell_type": "markdown",
      "metadata": {
        "id": "YbaT7-IGvj9B"
      },
      "source": [
        "평균변화율이란?"
      ]
    },
    {
      "cell_type": "markdown",
      "metadata": {
        "id": "Llsw--1jv12r"
      },
      "source": [
        "2.2.2. 예제. f(x)= x^2 + 4x  [0, 2]의 평균변화율을 구하시오. "
      ]
    },
    {
      "cell_type": "code",
      "metadata": {
        "id": "FTZz8I4Vqykc"
      },
      "source": [
        "from sympy import symbols    # 파이썬 sympy 라이브러리 호출\n",
        "def average(a,b):\n",
        "    m = max(a,b)      #a, b의 최댓값\n",
        "    n = min(a,b)      #a, b의 최솟값\n",
        "    x = symbols('x')  #기호변수 x 선언\n",
        "\n",
        "    fx = x ** 2 + 4 * x  # x^2 +4x  함수 정의\n",
        "    fb = fx.subs(x, m)  #함수에 m 대입\n",
        "    fa = fx.subs(x, n)  #함수에 n 대입\n",
        "\n",
        "    result = (fb - fa) / (m - n)\n",
        "    return result\n",
        "print(average(1,3))"
      ],
      "execution_count": null,
      "outputs": []
    },
    {
      "cell_type": "markdown",
      "metadata": {
        "id": "YURkC7LOqxvP"
      },
      "source": [
        ""
      ]
    },
    {
      "cell_type": "code",
      "metadata": {
        "id": "TBJHJ9s_qyH3"
      },
      "source": [
        ""
      ],
      "execution_count": null,
      "outputs": []
    },
    {
      "cell_type": "markdown",
      "metadata": {
        "id": "miDKTlseqZv9"
      },
      "source": [
        ""
      ]
    },
    {
      "cell_type": "code",
      "metadata": {
        "colab": {
          "base_uri": "https://localhost:8080/"
        },
        "id": "76DVN27Dqa6k",
        "outputId": "5dee44d7-63fe-4ab4-f695-9101b2dfd761"
      },
      "source": [
        "# 8.1.2 미분계수\n",
        "\n",
        "# 파이썬 Numpy 라이브러리 호출\n",
        "from sympy import Derivative, symbols\n",
        "\n",
        "# 평균변화율을 구할 수 있는 함수 정의\n",
        "x = symbols('x')   # x를 기호 변수화\n",
        "fx = 2 * x ** 2 + 4 * x *  + x + 7\n",
        "\n",
        "# fprime라는 Derivative 클래스의 객체를 생성한 후\n",
        "# subs() 메서드를 이용하여 x=3에서의 미분계수 f′(3)을 구한다.\n",
        "fprime = Derivative(fx, x).doit()  #x에 대해서 미분\n",
        "n = fprime.subs({x: 3})\n",
        "print(\"fx에서 x = 3 에서의 순간변화율(미분계수는) \", n , \"입니다\")"
      ],
      "execution_count": null,
      "outputs": [
        {
          "output_type": "stream",
          "text": [
            "fx에서 x = 3 에서의 순간변화율(미분계수는)  36 입니다\n"
          ],
          "name": "stdout"
        }
      ]
    },
    {
      "cell_type": "markdown",
      "metadata": {
        "id": "3_PakbHjejAz"
      },
      "source": [
        "2.2. 단일 변수 함수의 미분법"
      ]
    },
    {
      "cell_type": "code",
      "metadata": {
        "id": "6NmsT-IWkiSt"
      },
      "source": [
        "import sympy as sym\n",
        "x = sp.symbol('x')"
      ],
      "execution_count": null,
      "outputs": []
    },
    {
      "cell_type": "code",
      "metadata": {
        "id": "keUTuf4Tk_9p"
      },
      "source": [
        "sym.diff(x**5)"
      ],
      "execution_count": null,
      "outputs": []
    },
    {
      "cell_type": "markdown",
      "metadata": {
        "id": "gDVh6lEdnute"
      },
      "source": [
        "2.2.1. 예제 함수 fx= x**5의 도함수를 구하시오. "
      ]
    },
    {
      "cell_type": "code",
      "metadata": {
        "colab": {
          "base_uri": "https://localhost:8080/",
          "height": 39
        },
        "id": "XYGsbAsjmYYs",
        "outputId": "473b2b3e-1453-4af0-f245-2db4866cae38"
      },
      "source": [
        "# 8.1.3 도함수\n",
        "# 파이썬 SymPy 라이브러리 호출\n",
        "from sympy import Derivative, symbols\n",
        "\n",
        "# 변수 x와 함수 fx 정의\n",
        "x = symbols('x')   # x를 기호 변수화\n",
        "fx = 2 * x ** 2 + 4 * x *  + x + 7\n",
        "\n",
        "Derivative(fx, x).doit()"
      ],
      "execution_count": null,
      "outputs": [
        {
          "output_type": "execute_result",
          "data": {
            "text/latex": "$\\displaystyle 12 x$",
            "text/plain": [
              "12*x"
            ]
          },
          "metadata": {
            "tags": []
          },
          "execution_count": 12
        }
      ]
    },
    {
      "cell_type": "markdown",
      "metadata": {
        "id": "R8d9JqzlnZWb"
      },
      "source": [
        "2.2.2. 유제 함수 f(x)=2x**2-1의 도함수를 구하시오. "
      ]
    },
    {
      "cell_type": "code",
      "metadata": {
        "id": "S2QS5YktpS8o"
      },
      "source": [
        ""
      ],
      "execution_count": null,
      "outputs": []
    },
    {
      "cell_type": "markdown",
      "metadata": {
        "id": "j3J4iGjYpTtJ"
      },
      "source": [
        ""
      ]
    }
  ]
}
{
  "nbformat": 4,
  "nbformat_minor": 0,
  "metadata": {
    "colab": {
      "name": "인공지능 수학(홍콩AI-MATH)",
      "provenance": [],
      "collapsed_sections": [],
      "include_colab_link": true
    },
    "kernelspec": {
      "name": "python3",
      "display_name": "Python 3"
    },
    "language_info": {
      "name": "python"
    }
  },
  "cells": [
    {
      "cell_type": "markdown",
      "metadata": {
        "id": "view-in-github",
        "colab_type": "text"
      },
      "source": [
        "<a href=\"https://colab.research.google.com/github/tigerH/KISS/blob/main/%EC%9D%B8%EA%B3%B5%EC%A7%80%EB%8A%A5_%EC%88%98%ED%95%99(%ED%99%8D%EC%BD%A9AI_MATH).ipynb\" target=\"_parent\"><img src=\"https://colab.research.google.com/assets/colab-badge.svg\" alt=\"Open In Colab\"/></a>"
      ]
    },
    {
      "cell_type": "markdown",
      "metadata": {
        "id": "nZku4GmDhXJv"
      },
      "source": [
        "___\n",
        "# 2021 AI MATHEMATICS BOOK \n",
        "       MADE BY HONG KONG INTERNATIONAL SCHOOL\n",
        "___"
      ]
    },
    {
      "cell_type": "markdown",
      "metadata": {
        "id": "yf4_geY_adtT"
      },
      "source": [
        ">\n",
        ">\n",
        ">\n",
        "\n",
        "\n",
        "\n",
        "\n",
        "\n",
        "\n",
        "\n",
        "\n",
        "\n",
        "\n",
        "\n",
        "\n",
        "\n",
        "\n",
        "\n",
        "\n",
        "\n",
        "\n",
        "\n",
        "\n",
        "\n",
        "\n",
        "\n",
        "\n",
        "\n",
        "\n",
        "\n",
        "\n",
        "\n",
        "\n",
        "\n",
        "\n",
        "\n",
        "\n",
        "\n",
        "\n",
        "\n",
        "\n",
        "\n",
        "\n",
        "2021년도 재외한국학교 교수학습자료개발 결과물\n"
      ]
    },
    {
      "cell_type": "markdown",
      "metadata": {
        "id": "azUVnFr0hsdf"
      },
      "source": [
        "___\n",
        "머리말 \n"
      ]
    },
    {
      "cell_type": "markdown",
      "metadata": {
        "id": "xmO1xTq1hwrm"
      },
      "source": [
        "___\n",
        "차례 [왼쪽 목차]\n"
      ]
    },
    {
      "cell_type": "markdown",
      "metadata": {
        "id": "NXBER9inhoG9"
      },
      "source": [
        "# 🐈 들어가기"
      ]
    },
    {
      "cell_type": "markdown",
      "metadata": {
        "id": "NcG5LvxIk5mW"
      },
      "source": [
        "___\n",
        "#0. AI-MATH 교육과정"
      ]
    },
    {
      "cell_type": "markdown",
      "metadata": {
        "id": "QPA7XEuJlMCs"
      },
      "source": [
        "##0.1. AI-MATH의 성격 및 목표 "
      ]
    },
    {
      "cell_type": "markdown",
      "metadata": {
        "id": "DZNfQsoUsf_x"
      },
      "source": [
        "###0.1.1. 성격"
      ]
    },
    {
      "cell_type": "markdown",
      "metadata": {
        "id": "_QSLy_oFso0H"
      },
      "source": [
        "진로 선택 과목인 'AI-MATH'는 공통 과목인 <수학>을 학습한 후, 인공지능 분야에서 수학이 어\n",
        "떻게 활용되는지 알고자 하는 학생들이 선택할 수 있는 과목이다. 'AI-MATH'의 내용은 ‘인공지능과\n",
        "행렬’, ‘인공지능과 미분’, ‘인공지능과 확률, 통계'의 3개 단원으로 구성된다. "
      ]
    },
    {
      "cell_type": "markdown",
      "metadata": {
        "id": "VXcf36htssXn"
      },
      "source": [
        "###0.1.2. 목표"
      ]
    },
    {
      "cell_type": "markdown",
      "metadata": {
        "id": "1pF0Sy-8svnK"
      },
      "source": [
        "'AI-MATH'에서 학습한 인공지능의 원리와 수학 지식은 자신의 진로와 적성을 고려하여 선택할 수\n",
        "있는 수학 일반 선택 과목, 진로 선택 과목, 전문 교과 과목 학습에 대한 동기를 부여할 수 있다. 더 나아가\n",
        "자연과학, 공학, 의학뿐만 아니라 경제･경영학을 포함한 사회과학 분야에서 활용되며, 지능정보사회가 필요\n",
        "로 하는 창의적 역량을 갖춘 융합 인재로 성장할 수 있는 기반을 제공한다. 이를 위해 학생들은 인공지능에\n",
        "활용되는 수학의 유용성을 이해하고 문제 해결, 추론, 창의･융합, 의사소통, 정보 처리, 태도 및 실천의 여섯\n",
        "가지 수학 교과 역량을 길러야 한다. "
      ]
    },
    {
      "cell_type": "markdown",
      "metadata": {
        "id": "8htkZrjilXFE"
      },
      "source": [
        "##0.2. AI-MATH의 내용요소와 성취기준"
      ]
    },
    {
      "cell_type": "markdown",
      "metadata": {
        "id": "aDjih0oZlxm0"
      },
      "source": [
        "###0.2.1. 인공지능과 행렬 \n",
        "\n",
        "####0.2.1.1. 내용요소\n",
        "\n",
        "수와 수학 기호는 자료를 효과적으로 표현할 수 있는 도구이다. 인공지능이 해결하려는\n",
        "문제에 주로 등장하는 텍스트 자료나 이미지 자료를 수학을 이용하여 표현할 수 있다.\n",
        "\n",
        "####0.2.1.2. 성취기준\n",
        "\n",
        "[12인수02-01] 수와 수학 기호를 이용하여 실생활의 텍스트 자료를 목적에 알맞게 표현할 수 있다. \n",
        "\n",
        "[12인수02-02] 수와 수학 기호로 표현된 텍스트 자료를 처리하는 수학 원리를 이해하고 자료를 시각화할 수 있다. \n",
        "\n",
        "[12인수02-03] 수와 수학 기호를 이용하여 실생활의 이미지 자료를 목적에 알맞게 표현할 수 있다. \n",
        "\n",
        "[12인수02-04] 수와 수학 기호로 표현된 이미지 자료를 처리하는 수학 원리를 이해한다.\n",
        "\n",
        "####0.2.1.3.  관련 학습 요소\n",
        "\n",
        "• 벡터, 행렬 \n",
        "\n",
        "###0.2.2. 인공지능과 미분 \n",
        "\n",
        "####0.2.2.1. 내용요소\n",
        "\n",
        "인공지능은 자료를 바탕으로 합리적인 의사 결정을 내리는 기술을 제공한다. 이때 주어진 자\n",
        "료에 가장 적합한 의사 결정 모델을 찾기 위해 함수를 만들고 최솟값 또는 최댓값을 찾아 문제\n",
        "를 해결할 수 있다.\n",
        "\n",
        "####0.2.2.2. 성취기준\n",
        "\n",
        "[12인수04-01] 주어진 자료로부터 분류와 예측을 할 때, 오차를 표현할 수 있는 함수를 구성하는\n",
        "원리와 방법을 이해한다. \n",
        "\n",
        "[12인수04-02] 함수의 최솟값 또는 최댓값을 찾아 최적화된 의사 결정 방법을 이해한다. \n",
        "\n",
        "[12인수04-03] 합리적 의사 결정과 관련된 인공지능 수학 탐구 주제를 선정하여 탐구를 수행한다.\n",
        "\n",
        "####0.2.2.3.  관련 학습 요소\n",
        "\n",
        "• 함수의 극한, 이차함수의 미분계수, 손실함수, 경사하강법\n",
        "\n",
        "\n",
        "###0.2.3. 인공지능과 확률, 통계\n",
        "\n",
        "####0.2.3.1. 내용요소\n",
        "\n",
        "자료를 정리, 분석하여 자료의 패턴을 찾을 수 있고 관련된 사건이 일어날 가능성을 수치화할\n",
        "수 있다. 인공지능을 이용하여 자료를 판별, 정리, 분석하고 패턴을 찾아 새로운 대상에 대한 분\n",
        "류와 예측을 수행하며, 이때 확률과 자료의 시각화, 함수 등을 활용할 수 있다.\n",
        "\n",
        "####0.2.3.2. 성취기준\n",
        "\n",
        "[12인수03-01] 인공지능을 이용하여 텍스트를 분류하는 수학적 방법을 이해한다. \n",
        "\n",
        "[12인수03-02] 인공지능을 이용하여 이미지를 분류하는 수학적 방법을 이해한다.   \n",
        "\n",
        "[12인수03-03] 자료를 분석하여 사건이 일어날 확률을 구하고 예측에 이용할 수 있다. \n",
        "\n",
        "[12인수03-04] 자료의 경향성을 추세선으로 나타내고, 예측에 이용할 수 있다.\n",
        "\n",
        "####0.2.3.3.  관련 학습 요소\n",
        "\n",
        "• 유사도, 추세선, 조건부확률\n",
        "\n"
      ]
    },
    {
      "cell_type": "markdown",
      "metadata": {
        "id": "XSpOrXaTyL-c"
      },
      "source": [
        "##0.3. AI-MATH 강의를 통해 얻은 메시지"
      ]
    },
    {
      "cell_type": "markdown",
      "metadata": {
        "id": "JDFOFcYkyaS1"
      },
      "source": [
        "첫째,  AI-MATH에 대한 막연한 기대나 두려움은 도움이 되지 않습니다. 학생들과 한줄의 코드를 직접 작성하여 도출된 결과를 확인하는 과정이 더 유의미하였습니다.  "
      ]
    },
    {
      "cell_type": "markdown",
      "metadata": {
        "id": "v4G38VR-dmeO"
      },
      "source": [
        "둘째, AI-MATH 수업을 통해 전달하고자 하는 메시지가 명확해야 합니다. 예를 들어, 수학을 가르칠 것인가? 코딩을 가르칠 것인가? 인공지능(AI)를 가르칠 것인가? 라는 질문들 사이에서 적절한 수준의 관련성과 수준에 맞는 프로젝트 수업을 권장합니다. "
      ]
    },
    {
      "cell_type": "markdown",
      "metadata": {
        "id": "eanuWWRp2lqr"
      },
      "source": [
        " 셋째, 파이썬 실습교구로 '드론(Tello Drone)'과 '카미봇'을 사용하였습니다. 비교과활동(동아리활동)으로 추천합니다. "
      ]
    },
    {
      "cell_type": "markdown",
      "metadata": {
        "id": "gNYjVGETyoWt"
      },
      "source": [
        "##0.4. AI-MATH 교재를 참고하여 수업하려는 재외한국학교를 위한 가이드"
      ]
    },
    {
      "cell_type": "markdown",
      "metadata": {
        "id": "N0PG2279y76c"
      },
      "source": [
        "첫째, 본 강의 파일 및 책자(PDF)는 자유롭게 공유가 가능합니다. "
      ]
    },
    {
      "cell_type": "markdown",
      "metadata": {
        "id": "lCnHgA5BzFkV"
      },
      "source": [
        "둘째, 구글 Colap을 활용하여 자유롭게 강의를 추가 혹은 삭제가 가능합니다. "
      ]
    },
    {
      "cell_type": "markdown",
      "metadata": {
        "id": "3yYJBidA1x1r"
      },
      "source": [
        "셋째, 본 교재는 기초편, 기본편, 심화편으로 구성되었습니다. 어떤 내용을 가르치고, 순서는 어떻게 배치할것인가? 는 전적으로 해당 학교의 자율입니다.  \n",
        "\n"
      ]
    },
    {
      "cell_type": "markdown",
      "metadata": {
        "id": "pCQmtHOYStZk"
      },
      "source": [
        "넷째, 학생들과 공동작업이 가능합니다. "
      ]
    },
    {
      "cell_type": "markdown",
      "metadata": {
        "id": "uCX-9TU2Szh0"
      },
      "source": [
        "마지막으로, 학생들 개별 코딩화면을 확인할 수 있습니다. "
      ]
    },
    {
      "cell_type": "markdown",
      "metadata": {
        "id": "-p9-pTlRfqcU"
      },
      "source": [
        "# 🐏 기초편"
      ]
    },
    {
      "cell_type": "markdown",
      "metadata": {
        "id": "ZZ7mMzjLkdVd"
      },
      "source": [
        "# 기초수학"
      ]
    },
    {
      "cell_type": "markdown",
      "metadata": {
        "id": "t4Cf0CEykg3z"
      },
      "source": [
        "## 1. 변수와 상수"
      ]
    },
    {
      "cell_type": "markdown",
      "metadata": {
        "id": "tHw-Jpyjlz_1"
      },
      "source": [
        "- 인공지능의 모델중에서 신경망에 사용되는 '가중치(w)=기울기'컴퓨터가 스스로 결정한다. \n",
        "- 가중치는 컴퓨터가 학습하는 과정에서는 '변수'로, 활용하는 과정에서는 '상수'로 인식한다. "
      ]
    },
    {
      "cell_type": "markdown",
      "metadata": {
        "id": "fLRiKz_7m3v7"
      },
      "source": [
        "###1.1 변수\n"
      ]
    },
    {
      "cell_type": "markdown",
      "metadata": {
        "id": "gEFgrNoiU8a-"
      },
      "source": [
        "### 1.1.0. How To Using?"
      ]
    },
    {
      "cell_type": "markdown",
      "metadata": {
        "id": "uxchG89lVRpd"
      },
      "source": [
        ""
      ]
    },
    {
      "cell_type": "markdown",
      "metadata": {
        "id": "y2nye2Q9U8a-"
      },
      "source": [
        "###1.1.1. Example"
      ]
    },
    {
      "cell_type": "markdown",
      "metadata": {
        "id": "ubr0ZbK4VS_s"
      },
      "source": [
        ""
      ]
    },
    {
      "cell_type": "markdown",
      "metadata": {
        "id": "HqCaWlBmU8a_"
      },
      "source": [
        "### 1.1.2. Definition"
      ]
    },
    {
      "cell_type": "markdown",
      "metadata": {
        "id": "KmfTNFV5VI-c"
      },
      "source": [
        "변수는 값이 고정되지 않아 여러가지 값을 넣을 수 있다. "
      ]
    },
    {
      "cell_type": "markdown",
      "metadata": {
        "id": "JARfcB2DU8a_"
      },
      "source": [
        "###1.1.3. Exercise"
      ]
    },
    {
      "cell_type": "markdown",
      "metadata": {
        "id": "wQ2P7qfQm-2S"
      },
      "source": [
        ""
      ]
    },
    {
      "cell_type": "markdown",
      "metadata": {
        "id": "f1G-_SBCnKs6"
      },
      "source": [
        "###1.2. 상수"
      ]
    },
    {
      "cell_type": "markdown",
      "metadata": {
        "id": "eGF9q2bNVe2_"
      },
      "source": [
        "### 1.2.0. How To Using?"
      ]
    },
    {
      "cell_type": "markdown",
      "metadata": {
        "id": "8KoPw2RLVe3A"
      },
      "source": [
        ""
      ]
    },
    {
      "cell_type": "markdown",
      "metadata": {
        "id": "3PUbzB5XVe3A"
      },
      "source": [
        "###1.2.1. Example"
      ]
    },
    {
      "cell_type": "markdown",
      "metadata": {
        "id": "VHzrK_WQVe3A"
      },
      "source": [
        ""
      ]
    },
    {
      "cell_type": "markdown",
      "metadata": {
        "id": "Il_5nhBeVe3A"
      },
      "source": [
        "### 1.2.2. Definition"
      ]
    },
    {
      "cell_type": "markdown",
      "metadata": {
        "id": "9muh4U0fnNA0"
      },
      "source": [
        "상수는 값이 고정되어 변하지 않는다. "
      ]
    },
    {
      "cell_type": "markdown",
      "metadata": {
        "id": "iA7zQVYIVe3A"
      },
      "source": [
        "###1.2.3. Exercise"
      ]
    },
    {
      "cell_type": "markdown",
      "metadata": {
        "id": "1NmHeNauVe3A"
      },
      "source": [
        ""
      ]
    },
    {
      "cell_type": "markdown",
      "metadata": {
        "id": "ZcImFL-Uk3Ds"
      },
      "source": [
        "##2. 함수의 개념"
      ]
    },
    {
      "cell_type": "markdown",
      "metadata": {
        "id": "JIAcmPeeWGCO"
      },
      "source": [
        "- 함수는 하나의 입력값에 단 하나의 출력값이 나온다.\n",
        "- Python에서는 하나의 입력값에 대응하는 출력값의 종류가 많다. 예를들어, 'True', 'False', 'Hello AI-MATH' 등의 형태도 출력이 된다. (수학의 함수값보다 더 확장되었다)"
      ]
    },
    {
      "cell_type": "markdown",
      "metadata": {
        "id": "0tHBXFQrVyVF"
      },
      "source": [
        "### 2.0. How To Using?"
      ]
    },
    {
      "cell_type": "markdown",
      "metadata": {
        "id": "PYmgfkIlVyVF"
      },
      "source": [
        ""
      ]
    },
    {
      "cell_type": "markdown",
      "metadata": {
        "id": "MgS2OnddVyVF"
      },
      "source": [
        "###2.1. Example"
      ]
    },
    {
      "cell_type": "markdown",
      "metadata": {
        "id": "ug1p_Rs_VyVF"
      },
      "source": [
        ""
      ]
    },
    {
      "cell_type": "markdown",
      "metadata": {
        "id": "v6z_t3ijVyVF"
      },
      "source": [
        "### 2.2. Definition"
      ]
    },
    {
      "cell_type": "markdown",
      "metadata": {
        "id": "mD8_-R3XVyVF"
      },
      "source": [
        "변수는 값이 고정되지 않아 여러가지 값을 넣을 수 있다. "
      ]
    },
    {
      "cell_type": "markdown",
      "metadata": {
        "id": "NpEUKPDcVyVF"
      },
      "source": [
        "###2.3. Exercise"
      ]
    },
    {
      "cell_type": "markdown",
      "metadata": {
        "id": "P0OuSXceVyVF"
      },
      "source": [
        ""
      ]
    },
    {
      "cell_type": "markdown",
      "metadata": {
        "id": "YF2dY01rkuq0"
      },
      "source": [
        "## 3. 일차함수"
      ]
    },
    {
      "cell_type": "markdown",
      "metadata": {
        "id": "bISWwvCdWOvs"
      },
      "source": [
        "### 3.0. How To Using?"
      ]
    },
    {
      "cell_type": "markdown",
      "metadata": {
        "id": "0MRGjsnwWOvt"
      },
      "source": [
        ""
      ]
    },
    {
      "cell_type": "markdown",
      "metadata": {
        "id": "xmqpLeqeWOvt"
      },
      "source": [
        "###3.1. Example"
      ]
    },
    {
      "cell_type": "markdown",
      "metadata": {
        "id": "qpy_wmxyWOvt"
      },
      "source": [
        ""
      ]
    },
    {
      "cell_type": "markdown",
      "metadata": {
        "id": "K8TuckvhWOvt"
      },
      "source": [
        "### 3.2. Definition"
      ]
    },
    {
      "cell_type": "markdown",
      "metadata": {
        "id": "InCSt3stotfk"
      },
      "source": [
        "\n",
        "$y = wx + b$   (   $w$: 가중치[기울기], $b$: y절편  )\n",
        "\n",
        "\n",
        "그래프 상에서 직선인 그래프(linear)"
      ]
    },
    {
      "cell_type": "markdown",
      "metadata": {
        "id": "S6dNyCJ8WOvt"
      },
      "source": [
        "###3.3. Exercise"
      ]
    },
    {
      "cell_type": "markdown",
      "metadata": {
        "id": "E6aMK7gLWOvt"
      },
      "source": [
        ""
      ]
    },
    {
      "cell_type": "markdown",
      "metadata": {
        "id": "rvbZ_VsFkyV0"
      },
      "source": [
        "##4. 이차함수"
      ]
    },
    {
      "cell_type": "markdown",
      "metadata": {
        "id": "BGehdmP5WvH5"
      },
      "source": [
        "### 4.0. How To Using?"
      ]
    },
    {
      "cell_type": "markdown",
      "metadata": {
        "id": "A33btloyWvH5"
      },
      "source": [
        ""
      ]
    },
    {
      "cell_type": "markdown",
      "metadata": {
        "id": "1hZrPXkOWvH6"
      },
      "source": [
        "###4.1. Example"
      ]
    },
    {
      "cell_type": "markdown",
      "metadata": {
        "id": "BmMx0DweWvH6"
      },
      "source": [
        ""
      ]
    },
    {
      "cell_type": "markdown",
      "metadata": {
        "id": "0RI1DKkOWvH6"
      },
      "source": [
        "###4.2. Definition"
      ]
    },
    {
      "cell_type": "markdown",
      "metadata": {
        "id": "_oshSInTpK78"
      },
      "source": [
        " $y = ax^2 + bx + c$\n",
        "\n",
        "\n",
        " $D = b^2 -4ac $ 의 값에 따라 실근의 개수가 정해짐"
      ]
    },
    {
      "cell_type": "markdown",
      "metadata": {
        "id": "uurpY5L3WvH7"
      },
      "source": [
        "###4.3. Exercise"
      ]
    },
    {
      "cell_type": "markdown",
      "metadata": {
        "id": "BopxF0kxWvH7"
      },
      "source": [
        ""
      ]
    },
    {
      "cell_type": "markdown",
      "metadata": {
        "id": "B-fanrualaDb"
      },
      "source": [
        "##5. 삼차함수(다항함수)"
      ]
    },
    {
      "cell_type": "markdown",
      "metadata": {
        "id": "lr11Yx7IW4gc"
      },
      "source": [
        "###5.0. How To Using?"
      ]
    },
    {
      "cell_type": "markdown",
      "metadata": {
        "id": "spWpcvEbW4gd"
      },
      "source": [
        ""
      ]
    },
    {
      "cell_type": "markdown",
      "metadata": {
        "id": "hrA4dJNsW4gd"
      },
      "source": [
        "###5.1. Example"
      ]
    },
    {
      "cell_type": "markdown",
      "metadata": {
        "id": "z-t2DV5gW4gd"
      },
      "source": [
        ""
      ]
    },
    {
      "cell_type": "markdown",
      "metadata": {
        "id": "2KrBreLgW4gd"
      },
      "source": [
        "### 5.2. Definition"
      ]
    },
    {
      "cell_type": "markdown",
      "metadata": {
        "id": "ZvN-MEaKpuxE"
      },
      "source": [
        " $y = ax^3 + bx^2 + cx + d$\n",
        "(단, $a\\neq 0 $ )"
      ]
    },
    {
      "cell_type": "markdown",
      "metadata": {
        "id": "sPQmCNKUW4gd"
      },
      "source": [
        "###5.3. Exercise"
      ]
    },
    {
      "cell_type": "markdown",
      "metadata": {
        "id": "M-b4MNq1W4gd"
      },
      "source": [
        ""
      ]
    },
    {
      "cell_type": "markdown",
      "metadata": {
        "id": "MgcmXZHYk5ta"
      },
      "source": [
        "##6. 제곱근(Square root)"
      ]
    },
    {
      "cell_type": "markdown",
      "metadata": {
        "id": "pN6b3q-OXLkF"
      },
      "source": [
        "### 6.0. How To Using?"
      ]
    },
    {
      "cell_type": "markdown",
      "metadata": {
        "id": "7g0pOydHXLkF"
      },
      "source": [
        ""
      ]
    },
    {
      "cell_type": "markdown",
      "metadata": {
        "id": "F1XVnndKXLkF"
      },
      "source": [
        "###6.1. Example"
      ]
    },
    {
      "cell_type": "markdown",
      "metadata": {
        "id": "nxJQOdJ8p6Wa"
      },
      "source": [
        " <img src=\"https://upload.wikimedia.org/wikipedia/commons/thumb/4/4a/Square_root_0_25.svg/400px-Square_root_0_25.svg.png\" width=\"300\">\n",
        "\n",
        "* 제곱하여 $25$가 되는 $5, -5$를 *25에 대한 제곱근*이라 함\n",
        "* $\\left( \\pm \\sqrt{25}\\right) ^{2}=\\left( \\pm 5\\right) ^{2}=25$"
      ]
    },
    {
      "cell_type": "code",
      "metadata": {
        "colab": {
          "base_uri": "https://localhost:8080/"
        },
        "id": "SqM4m4VAKmxT",
        "outputId": "1921310a-94e1-4733-8ecc-91c3d0682c1e"
      },
      "source": [
        "math.sqrt( 25 ) "
      ],
      "execution_count": null,
      "outputs": [
        {
          "output_type": "execute_result",
          "data": {
            "text/plain": [
              "5.0"
            ]
          },
          "metadata": {
            "tags": []
          },
          "execution_count": 4
        }
      ]
    },
    {
      "cell_type": "markdown",
      "metadata": {
        "id": "LZEDRQltXLkF"
      },
      "source": [
        "### 6.2. Definition"
      ]
    },
    {
      "cell_type": "markdown",
      "metadata": {
        "id": "TS1F0ta4XLkF"
      },
      "source": [
        "변수는 값이 고정되지 않아 여러가지 값을 넣을 수 있다. "
      ]
    },
    {
      "cell_type": "markdown",
      "metadata": {
        "id": "phOvRYa7XLkF"
      },
      "source": [
        "###6.3. Exercise"
      ]
    },
    {
      "cell_type": "markdown",
      "metadata": {
        "id": "hN-aZnA-XLkF"
      },
      "source": [
        ""
      ]
    },
    {
      "cell_type": "markdown",
      "metadata": {
        "id": "4r1iBg2pk8KL"
      },
      "source": [
        "##7. 거듭제곱과 거듭제곱근"
      ]
    },
    {
      "cell_type": "markdown",
      "metadata": {
        "id": "l5T_xNhwT0oV"
      },
      "source": [
        "* 거듭제곱과 거듭제곱근의 성질을 이해하고 계산할 수 있다. \n"
      ]
    },
    {
      "cell_type": "markdown",
      "metadata": {
        "id": "yBFjFdW-UMv7"
      },
      "source": [
        "###7.1 거듭제곱(Exponentiation)"
      ]
    },
    {
      "cell_type": "markdown",
      "metadata": {
        "id": "LLVLzcNCXcu0"
      },
      "source": [
        "####7.1.0. How To Using?"
      ]
    },
    {
      "cell_type": "markdown",
      "metadata": {
        "id": "3IkzTEDMXcu1"
      },
      "source": [
        ""
      ]
    },
    {
      "cell_type": "markdown",
      "metadata": {
        "id": "c6yract_Xcu1"
      },
      "source": [
        "####7.1.1. Example"
      ]
    },
    {
      "cell_type": "markdown",
      "metadata": {
        "id": "fphk_VLRXcu1"
      },
      "source": [
        ""
      ]
    },
    {
      "cell_type": "markdown",
      "metadata": {
        "id": "VWabQ4rCXcu1"
      },
      "source": [
        "####7.1.2. Definition"
      ]
    },
    {
      "cell_type": "markdown",
      "metadata": {
        "id": "4vOMnAADUY7F"
      },
      "source": [
        " 같은 수를 거듭하여 곱하는 것을 '거듭제곱'이라고 한다. \n",
        " \n",
        "$ a^{n}$ ; $a$의 $n$거듭제곱\n",
        "\n"
      ]
    },
    {
      "cell_type": "markdown",
      "metadata": {
        "id": "VkeahF5CXiEn"
      },
      "source": [
        "* 거듭제곱의 성질\n",
        "\n",
        "$a^{m}a^{n}=a^{m+n}$\n",
        "\n",
        "$( ab ) ^{m}=a^{m}b^{m}$\n",
        "\n",
        "$( a^{m}) ^{n}=a^{mn}$\n",
        "\n",
        "$a^{-m}=\\dfrac{1}{a^{m}}$"
      ]
    },
    {
      "cell_type": "markdown",
      "metadata": {
        "id": "NVDADXWfXcu3"
      },
      "source": [
        "####7.1.3. Exercise"
      ]
    },
    {
      "cell_type": "markdown",
      "metadata": {
        "id": "XrcacFYzXcu3"
      },
      "source": [
        ""
      ]
    },
    {
      "cell_type": "markdown",
      "metadata": {
        "id": "KeTUHTTHUPxl"
      },
      "source": [
        "###7.2. 거듭제곱근"
      ]
    },
    {
      "cell_type": "markdown",
      "metadata": {
        "id": "fFyTGRpXX5Cr"
      },
      "source": [
        "####7.2.0. How To Using?"
      ]
    },
    {
      "cell_type": "markdown",
      "metadata": {
        "id": "4tL7Fhq6X5Cr"
      },
      "source": [
        ""
      ]
    },
    {
      "cell_type": "markdown",
      "metadata": {
        "id": "OB-5C4VfX5Cr"
      },
      "source": [
        "####7.2.1. Example"
      ]
    },
    {
      "cell_type": "markdown",
      "metadata": {
        "id": "JYijE_rrX5Cs"
      },
      "source": [
        " 8의 실수인 세제곱근은 2이다. 왜냐하면, $x^{3}=8$을 만족하는 실수는 2이기 때문이다. "
      ]
    },
    {
      "cell_type": "markdown",
      "metadata": {
        "id": "QiVXwyi3X5Cs"
      },
      "source": [
        "####7.2.2. Definition"
      ]
    },
    {
      "cell_type": "markdown",
      "metadata": {
        "id": "YhqJwtevUSnK"
      },
      "source": [
        " $ x^{n}=a$ 를 만족하는 실수 $x$를 $a$의 $n$ 거듭제곱근이라 한다. \n"
      ]
    },
    {
      "cell_type": "markdown",
      "metadata": {
        "id": "OqIfgLjXcOQf"
      },
      "source": [
        "* 거듭제곱근의 성질\n",
        "\n",
        "$\\sqrt[m]{a}\\sqrt[m]{b}=\\sqrt[m]{ab}$\n",
        "\n",
        "$\\sqrt[m]{\\sqrt[n] {a}}=\\sqrt[mn]{a} $\n",
        "\n",
        "$\\sqrt[m]{a^{n}}=a^{\\dfrac{n}{m}}$\n"
      ]
    },
    {
      "cell_type": "markdown",
      "metadata": {
        "id": "rPi_WuIXX5Ct"
      },
      "source": [
        "####7.2.3. Exercise"
      ]
    },
    {
      "cell_type": "markdown",
      "metadata": {
        "id": "TwmJb4UJX5Ct"
      },
      "source": [
        ""
      ]
    },
    {
      "cell_type": "markdown",
      "metadata": {
        "id": "Lm6nuxthlINb"
      },
      "source": [
        "##8. 집합과 원소"
      ]
    },
    {
      "cell_type": "markdown",
      "metadata": {
        "id": "pWaAhWxuYuNy"
      },
      "source": [
        "### 8.0. How To Using?"
      ]
    },
    {
      "cell_type": "markdown",
      "metadata": {
        "id": "bAL1Om8rYuNz"
      },
      "source": [
        ""
      ]
    },
    {
      "cell_type": "markdown",
      "metadata": {
        "id": "hrE8tCgAYuNz"
      },
      "source": [
        "###8.1. Example"
      ]
    },
    {
      "cell_type": "markdown",
      "metadata": {
        "id": "z1GPS4fLYuNz"
      },
      "source": [
        ""
      ]
    },
    {
      "cell_type": "markdown",
      "metadata": {
        "id": "JRuglWe2YuNz"
      },
      "source": [
        "###8.2. Definition"
      ]
    },
    {
      "cell_type": "markdown",
      "metadata": {
        "id": "oKgqz36EYuN0"
      },
      "source": [
        " $y = ax^2 + bx + c$\n",
        "\n",
        "\n",
        " $D = b^2 -4ac $ 의 값에 따라 실근의 개수가 정해짐"
      ]
    },
    {
      "cell_type": "markdown",
      "metadata": {
        "id": "zqNIykZGYuN0"
      },
      "source": [
        "###8.3. Exercise"
      ]
    },
    {
      "cell_type": "markdown",
      "metadata": {
        "id": "vcn5bmiLYuN0"
      },
      "source": [
        ""
      ]
    },
    {
      "cell_type": "markdown",
      "metadata": {
        "id": "dho-h1k0lLAj"
      },
      "source": [
        "##9. 수열"
      ]
    },
    {
      "cell_type": "markdown",
      "metadata": {
        "id": "JzxLnoBeYzvs"
      },
      "source": [
        "### 9.0. How To Using?"
      ]
    },
    {
      "cell_type": "markdown",
      "metadata": {
        "id": "VtjE-BzUYzvt"
      },
      "source": [
        ""
      ]
    },
    {
      "cell_type": "markdown",
      "metadata": {
        "id": "8dOpC7_7Yzvt"
      },
      "source": [
        "###9.1. Example"
      ]
    },
    {
      "cell_type": "markdown",
      "metadata": {
        "id": "VBt2MeC7Yzvt"
      },
      "source": [
        ""
      ]
    },
    {
      "cell_type": "markdown",
      "metadata": {
        "id": "2F1IrfIRYzvu"
      },
      "source": [
        "###9.2. Definition"
      ]
    },
    {
      "cell_type": "markdown",
      "metadata": {
        "id": "GprFZosBYzvu"
      },
      "source": [
        " $y = ax^2 + bx + c$\n",
        "\n",
        "\n",
        " $D = b^2 -4ac $ 의 값에 따라 실근의 개수가 정해짐"
      ]
    },
    {
      "cell_type": "markdown",
      "metadata": {
        "id": "-S6hC4KyYzvu"
      },
      "source": [
        "###9.3. Exercise"
      ]
    },
    {
      "cell_type": "markdown",
      "metadata": {
        "id": "uDiejjS1Yzvu"
      },
      "source": [
        ""
      ]
    },
    {
      "cell_type": "markdown",
      "metadata": {
        "id": "VK9y1DDStEzC"
      },
      "source": [
        "##10. 극한"
      ]
    },
    {
      "cell_type": "markdown",
      "metadata": {
        "id": "oiXt2o4rY5Ig"
      },
      "source": [
        "### 10.0. How To Using?"
      ]
    },
    {
      "cell_type": "markdown",
      "metadata": {
        "id": "z9CLXkJbY5Ih"
      },
      "source": [
        ""
      ]
    },
    {
      "cell_type": "markdown",
      "metadata": {
        "id": "vZMiEmoAY5Ih"
      },
      "source": [
        "###10.1. Example"
      ]
    },
    {
      "cell_type": "markdown",
      "metadata": {
        "id": "YMp6vjh_uGec"
      },
      "source": [
        "- $\\lim_{x \\to 1} \\left(\\frac{x^2-1}{x-1} \\right) = 2$\n",
        "* $\\lim _{x\\rightarrow a}\\dfrac{x^{3}-a^{3}}{x-a}=3a^{2}$"
      ]
    },
    {
      "cell_type": "markdown",
      "metadata": {
        "id": "kYxMHcGUY5Ii"
      },
      "source": [
        "###10.2. Definition"
      ]
    },
    {
      "cell_type": "markdown",
      "metadata": {
        "id": "RMZ4XEBQlN8L"
      },
      "source": [
        "극한에 대한 정확한 의미를 이해하기 보다는 'x가 어떤 값 a에 가까이 다가간다'의 의미가 x가 a와 같지 않으며, 아주 가깝다는 뜻\n",
        "\n",
        "이를 표현할 때, 엡실론(epsilon)이라는 아주 작은 값(ex, 0.0001) 등으로 표현"
      ]
    },
    {
      "cell_type": "markdown",
      "metadata": {
        "id": "8wF7KMlGY5Ii"
      },
      "source": [
        "###10.3. Exercise"
      ]
    },
    {
      "cell_type": "markdown",
      "metadata": {
        "id": "4_Ang9h_Y5Ii"
      },
      "source": [
        ""
      ]
    },
    {
      "cell_type": "markdown",
      "metadata": {
        "id": "M0yjy9zcgTWO"
      },
      "source": [
        "# 🐪 기본편"
      ]
    },
    {
      "cell_type": "markdown",
      "metadata": {
        "id": "ruQE7QpacoHY"
      },
      "source": [
        "___\n",
        "# 1. 인공지능과  행렬"
      ]
    },
    {
      "cell_type": "markdown",
      "metadata": {
        "id": "lnlUIzjiN6FV"
      },
      "source": [
        "- 어떻게 조사 대상을 형식화할 것인가?\n",
        "\n"
      ]
    },
    {
      "cell_type": "code",
      "metadata": {
        "id": "nZ6S7d0C35lW"
      },
      "source": [
        ""
      ],
      "execution_count": null,
      "outputs": []
    },
    {
      "cell_type": "markdown",
      "metadata": {
        "id": "XBt76sE9A2mM"
      },
      "source": [
        "##1.0. NumPy 소개"
      ]
    },
    {
      "cell_type": "markdown",
      "metadata": {
        "id": "-DhW_s9TbrUH"
      },
      "source": [
        "####1.0.0. How To Using?"
      ]
    },
    {
      "cell_type": "markdown",
      "metadata": {
        "id": "V_iAGloEbrUH"
      },
      "source": [
        ""
      ]
    },
    {
      "cell_type": "markdown",
      "metadata": {
        "id": "LXgwMUGebrUH"
      },
      "source": [
        "####1.0.1. Example"
      ]
    },
    {
      "cell_type": "markdown",
      "metadata": {
        "id": "jDX6IGL7brUH"
      },
      "source": [
        " "
      ]
    },
    {
      "cell_type": "markdown",
      "metadata": {
        "id": "ShnYGNeJbrUI"
      },
      "source": [
        "####1.0.2. Definition"
      ]
    },
    {
      "cell_type": "markdown",
      "metadata": {
        "id": "ttOzHokrbrUI"
      },
      "source": [
        "\n"
      ]
    },
    {
      "cell_type": "markdown",
      "metadata": {
        "id": "i0pkOFb1brUI"
      },
      "source": [
        "####1.0.3. Exercise"
      ]
    },
    {
      "cell_type": "markdown",
      "metadata": {
        "id": "Gy193N-YbrUI"
      },
      "source": [
        ""
      ]
    },
    {
      "cell_type": "markdown",
      "metadata": {
        "id": "y-VVyYXRfSOo"
      },
      "source": [
        "##1.1. 벡터"
      ]
    },
    {
      "cell_type": "markdown",
      "metadata": {
        "id": "IZhQU_J6cAVZ"
      },
      "source": [
        "####1.1.0. How To Using?"
      ]
    },
    {
      "cell_type": "markdown",
      "metadata": {
        "id": "Z6gqxn7UcAVZ"
      },
      "source": [
        ""
      ]
    },
    {
      "cell_type": "markdown",
      "metadata": {
        "id": "6RWwN3_HcAVZ"
      },
      "source": [
        "####1.1.1. Example"
      ]
    },
    {
      "cell_type": "code",
      "metadata": {
        "colab": {
          "base_uri": "https://localhost:8080/"
        },
        "id": "-uVLE2jBLZ62",
        "outputId": "b5efb9f8-784b-41b4-8212-bf6073f337b1"
      },
      "source": [
        "# 벡터 만들기\n",
        "from numpy import array\n",
        "# 벡터 정의하기\n",
        "v = array([1, 2, 3])\n",
        "print(v)\n"
      ],
      "execution_count": null,
      "outputs": [
        {
          "output_type": "stream",
          "text": [
            "[1 2 3]\n"
          ],
          "name": "stdout"
        }
      ]
    },
    {
      "cell_type": "markdown",
      "metadata": {
        "id": "QgvTMW1TcAVb"
      },
      "source": [
        "####1.1.2. Definition"
      ]
    },
    {
      "cell_type": "markdown",
      "metadata": {
        "id": "_NG1PClGLZGW"
      },
      "source": [
        "벡터는 크기와 방향이 있는 양을 말합니다. \n",
        "스칼라는 크기만 있는 양을 말합니다. \n",
        "\n",
        "예를들어, 온도는 스칼라이며, "
      ]
    },
    {
      "cell_type": "markdown",
      "metadata": {
        "id": "NLuhxZ5ZcAVc"
      },
      "source": [
        "####1.1.3. Exercise"
      ]
    },
    {
      "cell_type": "markdown",
      "metadata": {
        "id": "YjadlPxjcAVc"
      },
      "source": [
        ""
      ]
    },
    {
      "cell_type": "markdown",
      "metadata": {
        "id": "1AMgdWkGwi_9"
      },
      "source": [
        "##1.2. 덧셈과 뺄셈, 그리고 스칼라배"
      ]
    },
    {
      "cell_type": "markdown",
      "metadata": {
        "id": "FNgMe6xTdA8j"
      },
      "source": [
        "####1.2.0. How To Using?"
      ]
    },
    {
      "cell_type": "markdown",
      "metadata": {
        "id": "8RgybpbidA8k"
      },
      "source": [
        ""
      ]
    },
    {
      "cell_type": "markdown",
      "metadata": {
        "id": "Q2I970LHdA8k"
      },
      "source": [
        "####1.2.1. Example"
      ]
    },
    {
      "cell_type": "markdown",
      "metadata": {
        "id": "egKMqlRGdA8k"
      },
      "source": [
        " "
      ]
    },
    {
      "cell_type": "markdown",
      "metadata": {
        "id": "azQmooKAdA8l"
      },
      "source": [
        "####1.2.2. Definition"
      ]
    },
    {
      "cell_type": "markdown",
      "metadata": {
        "id": "oCjonyx9dA8l"
      },
      "source": [
        "\n"
      ]
    },
    {
      "cell_type": "markdown",
      "metadata": {
        "id": "wBVA2LYKdA8l"
      },
      "source": [
        "####1.2.3. Exercise"
      ]
    },
    {
      "cell_type": "markdown",
      "metadata": {
        "id": "bCLFaIufdA8l"
      },
      "source": [
        ""
      ]
    },
    {
      "cell_type": "markdown",
      "metadata": {
        "id": "nby2FIP0wrT9"
      },
      "source": [
        "##1.3. 유향선분"
      ]
    },
    {
      "cell_type": "markdown",
      "metadata": {
        "id": "cG_aKxurdBor"
      },
      "source": [
        "####1.3.0. How To Using?"
      ]
    },
    {
      "cell_type": "markdown",
      "metadata": {
        "id": "4T3OLm_idBor"
      },
      "source": [
        ""
      ]
    },
    {
      "cell_type": "markdown",
      "metadata": {
        "id": "5j3RSDExdBor"
      },
      "source": [
        "####1.3.1. Example"
      ]
    },
    {
      "cell_type": "markdown",
      "metadata": {
        "id": "eZZ0DEljdBor"
      },
      "source": [
        " "
      ]
    },
    {
      "cell_type": "markdown",
      "metadata": {
        "id": "4XChSLWSdBor"
      },
      "source": [
        "####1.3.2. Definition"
      ]
    },
    {
      "cell_type": "markdown",
      "metadata": {
        "id": "ofG7QrdidBor"
      },
      "source": [
        "\n"
      ]
    },
    {
      "cell_type": "markdown",
      "metadata": {
        "id": "4Dt7NeCQdBos"
      },
      "source": [
        "####1.3.3. Exercise"
      ]
    },
    {
      "cell_type": "markdown",
      "metadata": {
        "id": "UVWDAayldBos"
      },
      "source": [
        ""
      ]
    },
    {
      "cell_type": "markdown",
      "metadata": {
        "id": "o3chFIEIwx71"
      },
      "source": [
        "##1.4. 내적"
      ]
    },
    {
      "cell_type": "markdown",
      "metadata": {
        "id": "I5N8kDsJdCKk"
      },
      "source": [
        "####1.4.0. How To Using?"
      ]
    },
    {
      "cell_type": "markdown",
      "metadata": {
        "id": "gqbCN7RhdCKl"
      },
      "source": [
        ""
      ]
    },
    {
      "cell_type": "markdown",
      "metadata": {
        "id": "EkaRA4uzdCKl"
      },
      "source": [
        "####1.4.1. Example"
      ]
    },
    {
      "cell_type": "markdown",
      "metadata": {
        "id": "cEXNDc8DdCKl"
      },
      "source": [
        " "
      ]
    },
    {
      "cell_type": "markdown",
      "metadata": {
        "id": "5BhEO59cdCKl"
      },
      "source": [
        "####1.4.2. Definition"
      ]
    },
    {
      "cell_type": "markdown",
      "metadata": {
        "id": "S-29a8QNdCKl"
      },
      "source": [
        "\n"
      ]
    },
    {
      "cell_type": "markdown",
      "metadata": {
        "id": "n1I1ZPksdCKl"
      },
      "source": [
        "####1.4.3. Exercise"
      ]
    },
    {
      "cell_type": "markdown",
      "metadata": {
        "id": "6z7D-lChdCKl"
      },
      "source": [
        ""
      ]
    },
    {
      "cell_type": "markdown",
      "metadata": {
        "id": "xVF2fIzPw1MN"
      },
      "source": [
        "##1.5. 직교조건"
      ]
    },
    {
      "cell_type": "markdown",
      "metadata": {
        "id": "8AOlsdjBdCs6"
      },
      "source": [
        "####1.5.0. How To Using?"
      ]
    },
    {
      "cell_type": "markdown",
      "metadata": {
        "id": "x8FMZwuNdCs6"
      },
      "source": [
        ""
      ]
    },
    {
      "cell_type": "markdown",
      "metadata": {
        "id": "adjbeeH8dCs6"
      },
      "source": [
        "####1.5.1. Example"
      ]
    },
    {
      "cell_type": "markdown",
      "metadata": {
        "id": "i4wkxie2dCs6"
      },
      "source": [
        " "
      ]
    },
    {
      "cell_type": "markdown",
      "metadata": {
        "id": "p_hp8XfjdCs6"
      },
      "source": [
        "####1.5.2. Definition"
      ]
    },
    {
      "cell_type": "markdown",
      "metadata": {
        "id": "xLaQ92zpdCs6"
      },
      "source": [
        "\n"
      ]
    },
    {
      "cell_type": "markdown",
      "metadata": {
        "id": "l1Vr4ukCdCs6"
      },
      "source": [
        "####1.5.3. Exercise"
      ]
    },
    {
      "cell_type": "markdown",
      "metadata": {
        "id": "BlMRyQUedCs6"
      },
      "source": [
        ""
      ]
    },
    {
      "cell_type": "markdown",
      "metadata": {
        "id": "T0lr89r1xEXO"
      },
      "source": [
        "##1.6. 법선벡터"
      ]
    },
    {
      "cell_type": "markdown",
      "metadata": {
        "id": "vnRbYYAzdDPF"
      },
      "source": [
        "####1.6.0. How To Using?"
      ]
    },
    {
      "cell_type": "markdown",
      "metadata": {
        "id": "WMYtRwf5dDPF"
      },
      "source": [
        ""
      ]
    },
    {
      "cell_type": "markdown",
      "metadata": {
        "id": "JN_Vdww4dDPF"
      },
      "source": [
        "####1.6.1. Example"
      ]
    },
    {
      "cell_type": "markdown",
      "metadata": {
        "id": "ss69nbRtdDPG"
      },
      "source": [
        " "
      ]
    },
    {
      "cell_type": "markdown",
      "metadata": {
        "id": "iBLiuA-idDPG"
      },
      "source": [
        "####1.6.2. Definition"
      ]
    },
    {
      "cell_type": "markdown",
      "metadata": {
        "id": "beVP0hLcdDPG"
      },
      "source": [
        "\n"
      ]
    },
    {
      "cell_type": "markdown",
      "metadata": {
        "id": "8HZ4ufdCdDPG"
      },
      "source": [
        "####1.6.3. Exercise"
      ]
    },
    {
      "cell_type": "markdown",
      "metadata": {
        "id": "iCaV_IC-dDPG"
      },
      "source": [
        ""
      ]
    },
    {
      "cell_type": "markdown",
      "metadata": {
        "id": "PsgOqBj5xG8u"
      },
      "source": [
        "##1.7. 벡터의 노름"
      ]
    },
    {
      "cell_type": "markdown",
      "metadata": {
        "id": "IHcpAIm3dD4K"
      },
      "source": [
        "####1.7.0. How To Using?"
      ]
    },
    {
      "cell_type": "markdown",
      "metadata": {
        "id": "GWqhzWtVdD4K"
      },
      "source": [
        ""
      ]
    },
    {
      "cell_type": "markdown",
      "metadata": {
        "id": "pnDgSYaadD4K"
      },
      "source": [
        "####1.7.1. Example"
      ]
    },
    {
      "cell_type": "markdown",
      "metadata": {
        "id": "3mUgahhfdD4K"
      },
      "source": [
        " "
      ]
    },
    {
      "cell_type": "markdown",
      "metadata": {
        "id": "tXHxm3XGdD4K"
      },
      "source": [
        "####1.7.2. Definition"
      ]
    },
    {
      "cell_type": "markdown",
      "metadata": {
        "id": "jztRFSP8dD4K"
      },
      "source": [
        "\n"
      ]
    },
    {
      "cell_type": "markdown",
      "metadata": {
        "id": "qtoXGhHJdD4L"
      },
      "source": [
        "####1.7.3. Exercise"
      ]
    },
    {
      "cell_type": "markdown",
      "metadata": {
        "id": "52n9Ls0udD4L"
      },
      "source": [
        ""
      ]
    },
    {
      "cell_type": "markdown",
      "metadata": {
        "id": "a6nSllrAxJ2I"
      },
      "source": [
        "##1.8. 코사인유사도"
      ]
    },
    {
      "cell_type": "markdown",
      "metadata": {
        "id": "p6VVpDDxdEeJ"
      },
      "source": [
        "####1.8.0. How To Using?"
      ]
    },
    {
      "cell_type": "markdown",
      "metadata": {
        "id": "8TQZjFwIdEeK"
      },
      "source": [
        ""
      ]
    },
    {
      "cell_type": "markdown",
      "metadata": {
        "id": "GAAOQd26dEeK"
      },
      "source": [
        "####1.8.1. Example"
      ]
    },
    {
      "cell_type": "markdown",
      "metadata": {
        "id": "ruD8IR1qdEeK"
      },
      "source": [
        " "
      ]
    },
    {
      "cell_type": "markdown",
      "metadata": {
        "id": "KvRw653QdEeK"
      },
      "source": [
        "####1.8.2. Definition"
      ]
    },
    {
      "cell_type": "markdown",
      "metadata": {
        "id": "Xq8UTjh0dEeK"
      },
      "source": [
        "\n"
      ]
    },
    {
      "cell_type": "markdown",
      "metadata": {
        "id": "fdLDxvLcdEeK"
      },
      "source": [
        "####1.8.3. Exercise"
      ]
    },
    {
      "cell_type": "markdown",
      "metadata": {
        "id": "dLavA1SQdEeK"
      },
      "source": [
        ""
      ]
    },
    {
      "cell_type": "markdown",
      "metadata": {
        "id": "bS9RbDiAxNWd"
      },
      "source": [
        "##1.9. 행렬의 덧셈과 뺄셈"
      ]
    },
    {
      "cell_type": "markdown",
      "metadata": {
        "id": "MIu8dTnYdFAB"
      },
      "source": [
        "####1.9.0. How To Using?"
      ]
    },
    {
      "cell_type": "markdown",
      "metadata": {
        "id": "SRdnZWaAdFAB"
      },
      "source": [
        ""
      ]
    },
    {
      "cell_type": "markdown",
      "metadata": {
        "id": "WTu3hWbrdFAC"
      },
      "source": [
        "####1.9.1. Example"
      ]
    },
    {
      "cell_type": "markdown",
      "metadata": {
        "id": "YHLsWG_XdFAC"
      },
      "source": [
        " "
      ]
    },
    {
      "cell_type": "markdown",
      "metadata": {
        "id": "EVCwpMQJdFAC"
      },
      "source": [
        "####1.9.2. Definition"
      ]
    },
    {
      "cell_type": "markdown",
      "metadata": {
        "id": "F0t1ACuldFAC"
      },
      "source": [
        "\n"
      ]
    },
    {
      "cell_type": "markdown",
      "metadata": {
        "id": "lStGJ0JmdFAC"
      },
      "source": [
        "####1.9.3. Exercise"
      ]
    },
    {
      "cell_type": "markdown",
      "metadata": {
        "id": "QhYEe7cwdFAC"
      },
      "source": [
        ""
      ]
    },
    {
      "cell_type": "markdown",
      "metadata": {
        "id": "QW5skYgexQnH"
      },
      "source": [
        "##1.10. 행렬의 곱셈"
      ]
    },
    {
      "cell_type": "markdown",
      "metadata": {
        "id": "Qj42ihPCdFkp"
      },
      "source": [
        "####1.10.0. How To Using?"
      ]
    },
    {
      "cell_type": "markdown",
      "metadata": {
        "id": "-QwXGlIzdFkq"
      },
      "source": [
        ""
      ]
    },
    {
      "cell_type": "markdown",
      "metadata": {
        "id": "rkj9B7oGdFkq"
      },
      "source": [
        "####1.10.1. Example"
      ]
    },
    {
      "cell_type": "markdown",
      "metadata": {
        "id": "mqGrD2JndFkq"
      },
      "source": [
        " "
      ]
    },
    {
      "cell_type": "markdown",
      "metadata": {
        "id": "cSOXHdAvdFkq"
      },
      "source": [
        "####1.10.2. Definition"
      ]
    },
    {
      "cell_type": "markdown",
      "metadata": {
        "id": "0EmDe1f9dFkq"
      },
      "source": [
        "\n"
      ]
    },
    {
      "cell_type": "markdown",
      "metadata": {
        "id": "UirPcWkedFkq"
      },
      "source": [
        "####1.10.3. Exercise"
      ]
    },
    {
      "cell_type": "markdown",
      "metadata": {
        "id": "dhBAO_RVdFkq"
      },
      "source": [
        ""
      ]
    },
    {
      "cell_type": "markdown",
      "metadata": {
        "id": "C3OBx1Joxzit"
      },
      "source": [
        "##1.11. 전치행렬"
      ]
    },
    {
      "cell_type": "markdown",
      "metadata": {
        "id": "gjGIIMF_dGK6"
      },
      "source": [
        "####1.11.0. How To Using?"
      ]
    },
    {
      "cell_type": "markdown",
      "metadata": {
        "id": "v0Wyd7W6dGK6"
      },
      "source": [
        ""
      ]
    },
    {
      "cell_type": "markdown",
      "metadata": {
        "id": "UQz4RwF4dGK6"
      },
      "source": [
        "####1.11.1. Example"
      ]
    },
    {
      "cell_type": "markdown",
      "metadata": {
        "id": "BBFQ0E4fdGK6"
      },
      "source": [
        " "
      ]
    },
    {
      "cell_type": "markdown",
      "metadata": {
        "id": "JdeyEcBSdGK6"
      },
      "source": [
        "####1.11.2. Definition"
      ]
    },
    {
      "cell_type": "markdown",
      "metadata": {
        "id": "bJnWpp_kdGK6"
      },
      "source": [
        "\n"
      ]
    },
    {
      "cell_type": "markdown",
      "metadata": {
        "id": "obIof0gQdGK6"
      },
      "source": [
        "####1.11.3. Exercise"
      ]
    },
    {
      "cell_type": "markdown",
      "metadata": {
        "id": "TDTq4GZYdGK6"
      },
      "source": [
        ""
      ]
    },
    {
      "cell_type": "markdown",
      "metadata": {
        "id": "g8R2mROvxTnf"
      },
      "source": [
        "##1.12. 연립방정식"
      ]
    },
    {
      "cell_type": "markdown",
      "metadata": {
        "id": "9lVj3yPtdGrN"
      },
      "source": [
        "####1.12.0. How To Using?"
      ]
    },
    {
      "cell_type": "markdown",
      "metadata": {
        "id": "lHI1qC-8dGrO"
      },
      "source": [
        ""
      ]
    },
    {
      "cell_type": "markdown",
      "metadata": {
        "id": "WLQURLVZdGrO"
      },
      "source": [
        "####1.12.1. Example"
      ]
    },
    {
      "cell_type": "markdown",
      "metadata": {
        "id": "0n7hiyCIdGrO"
      },
      "source": [
        " "
      ]
    },
    {
      "cell_type": "markdown",
      "metadata": {
        "id": "gRZiQ6WBdGrP"
      },
      "source": [
        "####1.12.2. Definition"
      ]
    },
    {
      "cell_type": "markdown",
      "metadata": {
        "id": "X_dX6GzgdGrP"
      },
      "source": [
        "\n"
      ]
    },
    {
      "cell_type": "markdown",
      "metadata": {
        "id": "wehus0VZdGrP"
      },
      "source": [
        "####1.12.3. Exercise"
      ]
    },
    {
      "cell_type": "markdown",
      "metadata": {
        "id": "n7lEgufCdGrP"
      },
      "source": [
        ""
      ]
    },
    {
      "cell_type": "markdown",
      "metadata": {
        "id": "bs1OtCjMxWJ0"
      },
      "source": [
        "##1.13. 선형변환"
      ]
    },
    {
      "cell_type": "markdown",
      "metadata": {
        "id": "Rp1jyYvLdHNi"
      },
      "source": [
        "####1.13.0. How To Using?"
      ]
    },
    {
      "cell_type": "markdown",
      "metadata": {
        "id": "4rPWe0tSdHNi"
      },
      "source": [
        ""
      ]
    },
    {
      "cell_type": "markdown",
      "metadata": {
        "id": "0-YIO_YPdHNi"
      },
      "source": [
        "####1.13.1. Example"
      ]
    },
    {
      "cell_type": "markdown",
      "metadata": {
        "id": "e9aSXmVedHNi"
      },
      "source": [
        " "
      ]
    },
    {
      "cell_type": "markdown",
      "metadata": {
        "id": "3xQucT-7dHNi"
      },
      "source": [
        "####1.13.2. Definition"
      ]
    },
    {
      "cell_type": "markdown",
      "metadata": {
        "id": "wbQ2QnjXdHNi"
      },
      "source": [
        "\n"
      ]
    },
    {
      "cell_type": "markdown",
      "metadata": {
        "id": "ljjML3HydHNi"
      },
      "source": [
        "####1.13.3. Exercise"
      ]
    },
    {
      "cell_type": "markdown",
      "metadata": {
        "id": "WvmU8AwOdHNi"
      },
      "source": [
        ""
      ]
    },
    {
      "cell_type": "markdown",
      "metadata": {
        "id": "onj-rMG8xZA8"
      },
      "source": [
        "##1.14. 고윳값과 고유벡터"
      ]
    },
    {
      "cell_type": "markdown",
      "metadata": {
        "id": "i4PoaAYBdHwv"
      },
      "source": [
        "####1.14.0. How To Using?"
      ]
    },
    {
      "cell_type": "markdown",
      "metadata": {
        "id": "-vbugzKndHww"
      },
      "source": [
        ""
      ]
    },
    {
      "cell_type": "markdown",
      "metadata": {
        "id": "lu3nTmbOdHww"
      },
      "source": [
        "####1.14.1. Example"
      ]
    },
    {
      "cell_type": "markdown",
      "metadata": {
        "id": "78M_x-0PdHww"
      },
      "source": [
        " "
      ]
    },
    {
      "cell_type": "markdown",
      "metadata": {
        "id": "ijrQhmHsdHwx"
      },
      "source": [
        "####1.14.2. Definition"
      ]
    },
    {
      "cell_type": "markdown",
      "metadata": {
        "id": "A_8D74rXdHwx"
      },
      "source": [
        "\n"
      ]
    },
    {
      "cell_type": "markdown",
      "metadata": {
        "id": "ZcnlyZoMdHwx"
      },
      "source": [
        "####1.14.3. Exercise"
      ]
    },
    {
      "cell_type": "markdown",
      "metadata": {
        "id": "DVRD-XNNdHwx"
      },
      "source": [
        ""
      ]
    },
    {
      "cell_type": "markdown",
      "metadata": {
        "id": "qdBsRCQPcq4I"
      },
      "source": [
        "___\n",
        "# 2. 인공지능과 미분"
      ]
    },
    {
      "cell_type": "markdown",
      "metadata": {
        "id": "8ZQ-QdL0OOQM"
      },
      "source": [
        "- 알고리즘을 어떻게 이해하고, 훈련과정을 최적화할 수 있을까?"
      ]
    },
    {
      "cell_type": "markdown",
      "metadata": {
        "id": "ovHnfg1tiJHu"
      },
      "source": [
        "##2.1. 초월함수"
      ]
    },
    {
      "cell_type": "markdown",
      "metadata": {
        "id": "Qzmpn-TY8Nse"
      },
      "source": [
        "###2.1.1. 지수함수"
      ]
    },
    {
      "cell_type": "markdown",
      "metadata": {
        "id": "39QO9JTEhdxJ"
      },
      "source": [
        "####2.1.1.0. How To Using?"
      ]
    },
    {
      "cell_type": "markdown",
      "metadata": {
        "id": "maCSnh3br9I6"
      },
      "source": [
        "- 지수함수-로그함수는 역함수 관계 ($y=x$ 직선 대칭 단, 밑이 같을 때)\n",
        "- 파이썬으로 직접 구현 가능"
      ]
    },
    {
      "cell_type": "markdown",
      "metadata": {
        "id": "Rzp2GvnZhdxK"
      },
      "source": [
        "####2.1.1.1. Example"
      ]
    },
    {
      "cell_type": "markdown",
      "metadata": {
        "id": "REUhtuoKhdxK"
      },
      "source": [
        ""
      ]
    },
    {
      "cell_type": "markdown",
      "metadata": {
        "id": "PvWWzFZyhdxK"
      },
      "source": [
        "####2.1.1.2. Definition"
      ]
    },
    {
      "cell_type": "markdown",
      "metadata": {
        "id": "Exat7hYlsHUp"
      },
      "source": [
        "- $y = a^x$ ($a \\ne 0$) (기본형)\n",
        "- $y = e^x$ ($e = 2.71828...$)"
      ]
    },
    {
      "cell_type": "markdown",
      "metadata": {
        "id": "NrU1kTm0hdxK"
      },
      "source": [
        "####2.1.1.3. Exercise"
      ]
    },
    {
      "cell_type": "markdown",
      "metadata": {
        "id": "T6hmt-hihdxK"
      },
      "source": [
        ""
      ]
    },
    {
      "cell_type": "markdown",
      "metadata": {
        "id": "NCTXn-Jd8Giv"
      },
      "source": [
        "###2.1.2. 로그함수"
      ]
    },
    {
      "cell_type": "markdown",
      "metadata": {
        "id": "B4uEwe08hc_3"
      },
      "source": [
        "####2.1.2.0. How To Using?"
      ]
    },
    {
      "cell_type": "markdown",
      "metadata": {
        "id": "umHs15CEhc_3"
      },
      "source": [
        ""
      ]
    },
    {
      "cell_type": "markdown",
      "metadata": {
        "id": "3V7Fa3Fihc_3"
      },
      "source": [
        "####2.1.2.1. Example"
      ]
    },
    {
      "cell_type": "markdown",
      "metadata": {
        "id": "vMZ5NHiusbH0"
      },
      "source": [
        "  <img src=\"https://upload.wikimedia.org/wikipedia/commons/thumb/7/73/Logarithms.svg/630px-Logarithms.svg.png\" width=\"300\">\n",
        "\n",
        "- $y = log_a(x)$ ($a \\ne 1$) (기본형)\n",
        "- $y=log_{10}(x)$ (상용로그)\n",
        "- $y = ln(x)$ (밑이 $e$인 자연로그)"
      ]
    },
    {
      "cell_type": "markdown",
      "metadata": {
        "id": "uQVj_AbMhc_3"
      },
      "source": [
        "####2.1.2.2. Definition"
      ]
    },
    {
      "cell_type": "markdown",
      "metadata": {
        "id": "rHc_55vFhc_4"
      },
      "source": [
        ""
      ]
    },
    {
      "cell_type": "markdown",
      "metadata": {
        "id": "D9nZBFaohc_4"
      },
      "source": [
        "####2.1.2.3. Exercise"
      ]
    },
    {
      "cell_type": "markdown",
      "metadata": {
        "id": "yfYA9gwBhc_4"
      },
      "source": [
        ""
      ]
    },
    {
      "cell_type": "markdown",
      "metadata": {
        "id": "4j_8km5GslQ7"
      },
      "source": [
        "2.1.2.1. 역함수"
      ]
    },
    {
      "cell_type": "markdown",
      "metadata": {
        "id": "dLet1GuXspX9"
      },
      "source": [
        "- $y=x$ 대칭"
      ]
    },
    {
      "cell_type": "markdown",
      "metadata": {
        "id": "lFhs5f_3supN"
      },
      "source": [
        "2.1.2.2. 평행이동과 대칭이동"
      ]
    },
    {
      "cell_type": "markdown",
      "metadata": {
        "id": "u4GGBu8hs0gh"
      },
      "source": [
        "- $y = -log_a(x)$와 $y = -log_a(1-x)$  \n",
        "  x=0.5 대칭\n",
        "- Logistic Regression을 위한 함수"
      ]
    },
    {
      "cell_type": "markdown",
      "metadata": {
        "id": "LJE-uv538S5f"
      },
      "source": [
        "###2.1.3. 시그모이드 함수"
      ]
    },
    {
      "cell_type": "markdown",
      "metadata": {
        "id": "qD4v9MbJhbQ4"
      },
      "source": [
        "####2.3.1.0. How To Using?"
      ]
    },
    {
      "cell_type": "markdown",
      "metadata": {
        "id": "gROo2SshhbQ4"
      },
      "source": [
        ""
      ]
    },
    {
      "cell_type": "markdown",
      "metadata": {
        "id": "Lq9S-YqnhbQ5"
      },
      "source": [
        "####2.3.1.1. Example"
      ]
    },
    {
      "cell_type": "code",
      "metadata": {
        "id": "kaRVQeeQ_Sb0",
        "colab": {
          "base_uri": "https://localhost:8080/",
          "height": 265
        },
        "outputId": "108a86f0-6d78-4afe-a1fd-189a544759f1"
      },
      "source": [
        "import numpy as np\n",
        "import matplotlib.pyplot as plt\n",
        "\n",
        "def f(x):\n",
        "  return 1 / (1 + math.exp(-x))\n",
        "f2 = np.vectorize(f)\n",
        "x = np.arange(-6, 6, 0.1)\n",
        "plt.plot(x, f2(x))\n",
        "plt.show()"
      ],
      "execution_count": null,
      "outputs": [
        {
          "output_type": "display_data",
          "data": {
            "image/png": "[encoded data removed]",
            "text/plain": [
              "<Figure size 432x288 with 1 Axes>"
            ]
          },
          "metadata": {
            "tags": [],
            "needs_background": "light"
          }
        }
      ]
    },
    {
      "cell_type": "markdown",
      "metadata": {
        "id": "vkT4RhBWhbQ5"
      },
      "source": [
        "####2.3.1.2. Definition"
      ]
    },
    {
      "cell_type": "markdown",
      "metadata": {
        "id": "S7YueAMe-OpF"
      },
      "source": [
        "* 시그모이드 함수는 $S$ 자형 곡선을 갖는 함수이다. \n",
        "* 인공 뉴런의 활성화 함수로 사용된다.\n",
        "* 통계학에서는 로지스틱 분포, 정규분포, 스튜던트 t분포 등 누적 분포 함수로 시그모이드함수가 사용된다. \n",
        "* (ex) $S(x)=\\frac{1}{1+e^{-x}}=\\frac{e^{x}}{e^{x}+1}$"
      ]
    },
    {
      "cell_type": "markdown",
      "metadata": {
        "id": "fHuxVbOJhbQ5"
      },
      "source": [
        "####2.3.1.3. Exercise"
      ]
    },
    {
      "cell_type": "markdown",
      "metadata": {
        "id": "enxz4QMphbQ5"
      },
      "source": [
        ""
      ]
    },
    {
      "cell_type": "markdown",
      "metadata": {
        "id": "VHZJ8Wsg8w1_"
      },
      "source": [
        "###2.1.4. 삼각함수(Trigonometric Functions)"
      ]
    },
    {
      "cell_type": "markdown",
      "metadata": {
        "id": "Qt93aNZhhaDE"
      },
      "source": [
        "####2.1.4.0. How To Using?"
      ]
    },
    {
      "cell_type": "markdown",
      "metadata": {
        "id": "eoauRMr7haDE"
      },
      "source": [
        ""
      ]
    },
    {
      "cell_type": "markdown",
      "metadata": {
        "id": "_DXoyMSmhaDE"
      },
      "source": [
        "####2.1.4.1. Example"
      ]
    },
    {
      "cell_type": "markdown",
      "metadata": {
        "id": "2JH7CA7wIEgj"
      },
      "source": [
        " <img src=\"https://equatio-api.texthelp.com/desmos/get/06-08-2021/ff65df73-9e39-4806-b1ee-7cae1dbd26d0\" width=\"300\">\n",
        "\n",
        " * $y=sinx$\n",
        " *$y=cosx$\n",
        " *$y=tanx$"
      ]
    },
    {
      "cell_type": "markdown",
      "metadata": {
        "id": "iYZa7HgFhaDF"
      },
      "source": [
        "####2.1.4.2. Definition"
      ]
    },
    {
      "cell_type": "markdown",
      "metadata": {
        "id": "m5vCmGflTRM5"
      },
      "source": [
        "* 각의 크기를 삼각비로 나타내는 함수를 삼각함수라 한다. "
      ]
    },
    {
      "cell_type": "markdown",
      "metadata": {
        "id": "HdKDeGOlhaDF"
      },
      "source": [
        "####2.1.4.3. Exercise"
      ]
    },
    {
      "cell_type": "markdown",
      "metadata": {
        "id": "iUSzpYiIhaDF"
      },
      "source": [
        ""
      ]
    },
    {
      "cell_type": "markdown",
      "metadata": {
        "id": "4tusStKT8zyX"
      },
      "source": [
        "###2.1.5. 절댓값과 유클리드 거리"
      ]
    },
    {
      "cell_type": "markdown",
      "metadata": {
        "id": "h6Nu1AQXhZHt"
      },
      "source": [
        "####2.1.5.0. How To Using?"
      ]
    },
    {
      "cell_type": "markdown",
      "metadata": {
        "id": "gaJm1EEPhZHt"
      },
      "source": [
        ""
      ]
    },
    {
      "cell_type": "markdown",
      "metadata": {
        "id": "rvMJaQP-hZHt"
      },
      "source": [
        "####2.1.5.1. Example"
      ]
    },
    {
      "cell_type": "markdown",
      "metadata": {
        "id": "xvZiOLIPhZHt"
      },
      "source": [
        ""
      ]
    },
    {
      "cell_type": "markdown",
      "metadata": {
        "id": "0xAgogqXhZHt"
      },
      "source": [
        "####2.1.5.2. Definition"
      ]
    },
    {
      "cell_type": "markdown",
      "metadata": {
        "id": "dc4am8lShZHt"
      },
      "source": [
        ""
      ]
    },
    {
      "cell_type": "markdown",
      "metadata": {
        "id": "6MlLZMyAhZHu"
      },
      "source": [
        "####2.1.5.3. Exercise"
      ]
    },
    {
      "cell_type": "markdown",
      "metadata": {
        "id": "xvEjrRR_hZHu"
      },
      "source": [
        ""
      ]
    },
    {
      "cell_type": "markdown",
      "metadata": {
        "id": "A4X0szCodeUp"
      },
      "source": [
        "##2.2. 미분"
      ]
    },
    {
      "cell_type": "markdown",
      "metadata": {
        "id": "Apih4Kqa54cB"
      },
      "source": [
        "###2.2.1. 극한"
      ]
    },
    {
      "cell_type": "markdown",
      "metadata": {
        "id": "qeUdie8FhYlM"
      },
      "source": [
        "####2.2.1.0. How To Using?"
      ]
    },
    {
      "cell_type": "markdown",
      "metadata": {
        "id": "MkBMjUrhhYlM"
      },
      "source": [
        ""
      ]
    },
    {
      "cell_type": "markdown",
      "metadata": {
        "id": "6B4YPeqIhYlM"
      },
      "source": [
        "####2.2.1.1. Example"
      ]
    },
    {
      "cell_type": "markdown",
      "metadata": {
        "id": "qESnvhsHhYlM"
      },
      "source": [
        ""
      ]
    },
    {
      "cell_type": "markdown",
      "metadata": {
        "id": "DN3mYPF1hYlN"
      },
      "source": [
        "####2.2.1.2. Definition"
      ]
    },
    {
      "cell_type": "markdown",
      "metadata": {
        "id": "9Lek2QIWhYlN"
      },
      "source": [
        ""
      ]
    },
    {
      "cell_type": "markdown",
      "metadata": {
        "id": "g5FDd4iDhYlN"
      },
      "source": [
        "####2.2.1.3. Exercise"
      ]
    },
    {
      "cell_type": "markdown",
      "metadata": {
        "id": "WNZUf1qshYlN"
      },
      "source": [
        ""
      ]
    },
    {
      "cell_type": "markdown",
      "metadata": {
        "id": "kDrDAy8C566J"
      },
      "source": [
        "###2.2.2. 미분의 기초"
      ]
    },
    {
      "cell_type": "markdown",
      "metadata": {
        "id": "r2ZAgVNhhYDj"
      },
      "source": [
        "####2.2.2.0. How To Using?"
      ]
    },
    {
      "cell_type": "markdown",
      "metadata": {
        "id": "rDaqpqkphYDk"
      },
      "source": [
        ""
      ]
    },
    {
      "cell_type": "markdown",
      "metadata": {
        "id": "_f6Cake4hYDk"
      },
      "source": [
        "####2.2.2.1. Example"
      ]
    },
    {
      "cell_type": "markdown",
      "metadata": {
        "id": "hEZxQuMphYDk"
      },
      "source": [
        ""
      ]
    },
    {
      "cell_type": "markdown",
      "metadata": {
        "id": "3N1yY_vWhYDk"
      },
      "source": [
        "####2.2.2.2. Definition"
      ]
    },
    {
      "cell_type": "markdown",
      "metadata": {
        "id": "g9IFK_LPhYDk"
      },
      "source": [
        ""
      ]
    },
    {
      "cell_type": "markdown",
      "metadata": {
        "id": "CGEQ1UpwhYDk"
      },
      "source": [
        "####2.2.2.3. Exercise"
      ]
    },
    {
      "cell_type": "markdown",
      "metadata": {
        "id": "Qg9LrBTxhYDk"
      },
      "source": [
        ""
      ]
    },
    {
      "cell_type": "markdown",
      "metadata": {
        "id": "1SWjHymk6AHg"
      },
      "source": [
        "###2.2.3. 상미분과 편미분"
      ]
    },
    {
      "cell_type": "markdown",
      "metadata": {
        "id": "NfvPOWJIhXi9"
      },
      "source": [
        "####2.2.3.0. How To Using?"
      ]
    },
    {
      "cell_type": "markdown",
      "metadata": {
        "id": "badtxxTKhXi-"
      },
      "source": [
        ""
      ]
    },
    {
      "cell_type": "markdown",
      "metadata": {
        "id": "aPcIsbg-hXi-"
      },
      "source": [
        "####2.2.3.1. Example"
      ]
    },
    {
      "cell_type": "markdown",
      "metadata": {
        "id": "RyVWFT4ohXi-"
      },
      "source": [
        ""
      ]
    },
    {
      "cell_type": "markdown",
      "metadata": {
        "id": "XSQZiZschXi-"
      },
      "source": [
        "####2.2.3.2. Definition"
      ]
    },
    {
      "cell_type": "markdown",
      "metadata": {
        "id": "SN23fHyAhXi-"
      },
      "source": [
        ""
      ]
    },
    {
      "cell_type": "markdown",
      "metadata": {
        "id": "ZEC6NyALhXi-"
      },
      "source": [
        "####2.2.3.3. Exercise"
      ]
    },
    {
      "cell_type": "markdown",
      "metadata": {
        "id": "2gBcD-SLhXi-"
      },
      "source": [
        ""
      ]
    },
    {
      "cell_type": "markdown",
      "metadata": {
        "id": "XDDcDcgs6HHQ"
      },
      "source": [
        "###2.2.4. 그래프그리기"
      ]
    },
    {
      "cell_type": "markdown",
      "metadata": {
        "id": "FsFxozkNhW7I"
      },
      "source": [
        "####2.2.4.0. How To Using?"
      ]
    },
    {
      "cell_type": "markdown",
      "metadata": {
        "id": "mRj4blx6hW7I"
      },
      "source": [
        ""
      ]
    },
    {
      "cell_type": "markdown",
      "metadata": {
        "id": "fO-ItinEhW7I"
      },
      "source": [
        "####2.2.4.1. Example"
      ]
    },
    {
      "cell_type": "markdown",
      "metadata": {
        "id": "4hbF-NYYhW7I"
      },
      "source": [
        ""
      ]
    },
    {
      "cell_type": "markdown",
      "metadata": {
        "id": "E9pFpPx4hW7I"
      },
      "source": [
        "####2.2.4.2. Definition"
      ]
    },
    {
      "cell_type": "markdown",
      "metadata": {
        "id": "GMV0jQn3hW7J"
      },
      "source": [
        ""
      ]
    },
    {
      "cell_type": "markdown",
      "metadata": {
        "id": "WoGlxqXehW7J"
      },
      "source": [
        "####2.2.4.3. Exercise"
      ]
    },
    {
      "cell_type": "markdown",
      "metadata": {
        "id": "JZOgUG1dhW7J"
      },
      "source": [
        ""
      ]
    },
    {
      "cell_type": "markdown",
      "metadata": {
        "id": "iVjQ_4Hl6LMg"
      },
      "source": [
        "###2.2.5. 함수의 최댓값과 최솟값"
      ]
    },
    {
      "cell_type": "markdown",
      "metadata": {
        "id": "WO82rfAChWTT"
      },
      "source": [
        "####2.2.5.0. How To Using?"
      ]
    },
    {
      "cell_type": "markdown",
      "metadata": {
        "id": "bHHfoKgHhWTT"
      },
      "source": [
        ""
      ]
    },
    {
      "cell_type": "markdown",
      "metadata": {
        "id": "SUBYuZechWTT"
      },
      "source": [
        "####2.2.5.1. Example"
      ]
    },
    {
      "cell_type": "markdown",
      "metadata": {
        "id": "iCVhaZTGhWTU"
      },
      "source": [
        ""
      ]
    },
    {
      "cell_type": "markdown",
      "metadata": {
        "id": "9fJhN72hhWTU"
      },
      "source": [
        "####2.2.5.2. Definition"
      ]
    },
    {
      "cell_type": "markdown",
      "metadata": {
        "id": "kK_YB96ghWTU"
      },
      "source": [
        ""
      ]
    },
    {
      "cell_type": "markdown",
      "metadata": {
        "id": "tg9kT6gJhWTU"
      },
      "source": [
        "####2.2.5.3. Exercise"
      ]
    },
    {
      "cell_type": "markdown",
      "metadata": {
        "id": "eHWTlURuhWTU"
      },
      "source": [
        ""
      ]
    },
    {
      "cell_type": "markdown",
      "metadata": {
        "id": "iVDqEZQa6Rhg"
      },
      "source": [
        "###2.2.6. 초월함수와 합성함수의 미분, 그리고 곱의 법칙"
      ]
    },
    {
      "cell_type": "markdown",
      "metadata": {
        "id": "o8IdY8WChVnt"
      },
      "source": [
        "####2.2.6.0. How To Using?"
      ]
    },
    {
      "cell_type": "markdown",
      "metadata": {
        "id": "FWnmXcmWhVnu"
      },
      "source": [
        ""
      ]
    },
    {
      "cell_type": "markdown",
      "metadata": {
        "id": "JW3hMs8_hVnu"
      },
      "source": [
        "####2.2.6.1. Example"
      ]
    },
    {
      "cell_type": "markdown",
      "metadata": {
        "id": "vnlJxMk4hVnu"
      },
      "source": [
        ""
      ]
    },
    {
      "cell_type": "markdown",
      "metadata": {
        "id": "PK4taav_hVnu"
      },
      "source": [
        "####2.2.6.2. Definition"
      ]
    },
    {
      "cell_type": "markdown",
      "metadata": {
        "id": "qfQDe37EhVnv"
      },
      "source": [
        ""
      ]
    },
    {
      "cell_type": "markdown",
      "metadata": {
        "id": "zWKnvGYkhVnv"
      },
      "source": [
        "####2.2.6.3. Exercise"
      ]
    },
    {
      "cell_type": "markdown",
      "metadata": {
        "id": "7IJLbi8yhVnv"
      },
      "source": [
        ""
      ]
    },
    {
      "cell_type": "markdown",
      "metadata": {
        "id": "WE9fOXBi6XIY"
      },
      "source": [
        "###2.2.7. 특수 함수의 미분"
      ]
    },
    {
      "cell_type": "markdown",
      "metadata": {
        "id": "Nf3py9Td6iiZ"
      },
      "source": [
        "####2.2.7.1. 다변수 함수의 미분"
      ]
    },
    {
      "cell_type": "markdown",
      "metadata": {
        "id": "vaoMxvWRfZzZ"
      },
      "source": [
        "#####2.2.7.1.0. How To Using?"
      ]
    },
    {
      "cell_type": "markdown",
      "metadata": {
        "id": "iBq0ubXqfZzZ"
      },
      "source": [
        ""
      ]
    },
    {
      "cell_type": "markdown",
      "metadata": {
        "id": "7UU3evvTfZzZ"
      },
      "source": [
        "#####2.2.7.1.1. Example"
      ]
    },
    {
      "cell_type": "markdown",
      "metadata": {
        "id": "G-bSbMsHfZzZ"
      },
      "source": [
        ""
      ]
    },
    {
      "cell_type": "markdown",
      "metadata": {
        "id": "AjHKCxISfZzZ"
      },
      "source": [
        "#####2.2.7.1.2. Definition"
      ]
    },
    {
      "cell_type": "markdown",
      "metadata": {
        "id": "z9DnlKEHfZzZ"
      },
      "source": [
        ""
      ]
    },
    {
      "cell_type": "markdown",
      "metadata": {
        "id": "Xs3v8V4EfZzZ"
      },
      "source": [
        "#####2.2.7.1.3. Exercise"
      ]
    },
    {
      "cell_type": "markdown",
      "metadata": {
        "id": "0qimtL-1fZzZ"
      },
      "source": [
        ""
      ]
    },
    {
      "cell_type": "markdown",
      "metadata": {
        "id": "sh7lT8mZ6mUq"
      },
      "source": [
        "####2.2.7.2. 이계도함수"
      ]
    },
    {
      "cell_type": "markdown",
      "metadata": {
        "id": "GuZouSJsfact"
      },
      "source": [
        "#####2.2.7.2.0. How To Using?"
      ]
    },
    {
      "cell_type": "markdown",
      "metadata": {
        "id": "iORXx9n3fact"
      },
      "source": [
        ""
      ]
    },
    {
      "cell_type": "markdown",
      "metadata": {
        "id": "dIJlSaNEfact"
      },
      "source": [
        "#####2.2.7.2.1. Example"
      ]
    },
    {
      "cell_type": "markdown",
      "metadata": {
        "id": "iKFE_3Yyfact"
      },
      "source": [
        ""
      ]
    },
    {
      "cell_type": "markdown",
      "metadata": {
        "id": "PEJgnEHbfact"
      },
      "source": [
        "#####2.2.7.2.2. Definition"
      ]
    },
    {
      "cell_type": "markdown",
      "metadata": {
        "id": "YzbZiap6fact"
      },
      "source": [
        ""
      ]
    },
    {
      "cell_type": "markdown",
      "metadata": {
        "id": "F-Kg18aUfact"
      },
      "source": [
        "#####2.2.7.2.3. Exercise"
      ]
    },
    {
      "cell_type": "markdown",
      "metadata": {
        "id": "-BYWn05Ufact"
      },
      "source": [
        ""
      ]
    },
    {
      "cell_type": "markdown",
      "metadata": {
        "id": "vCV2uiopii1u"
      },
      "source": [
        "##2.3. 적분"
      ]
    },
    {
      "cell_type": "markdown",
      "metadata": {
        "id": "pqvodfsvilS-"
      },
      "source": [
        "###2.3.1. 적분"
      ]
    },
    {
      "cell_type": "markdown",
      "metadata": {
        "id": "59qEjXxBg0W5"
      },
      "source": [
        "####2.3.1.0. How To Using?"
      ]
    },
    {
      "cell_type": "markdown",
      "metadata": {
        "id": "3_SrUllCg0W5"
      },
      "source": [
        ""
      ]
    },
    {
      "cell_type": "markdown",
      "metadata": {
        "id": "OS_y7nxtg0W5"
      },
      "source": [
        "####2.3.1.1. Example"
      ]
    },
    {
      "cell_type": "markdown",
      "metadata": {
        "id": "irvnlY_5g0W5"
      },
      "source": [
        ""
      ]
    },
    {
      "cell_type": "markdown",
      "metadata": {
        "id": "-YKU-Zhlg0W5"
      },
      "source": [
        "####2.3.1.2. Definition"
      ]
    },
    {
      "cell_type": "markdown",
      "metadata": {
        "id": "t4QY6SdCg0W5"
      },
      "source": [
        ""
      ]
    },
    {
      "cell_type": "markdown",
      "metadata": {
        "id": "EPVGPIj4g0W5"
      },
      "source": [
        "####2.3.1.3. Exercise"
      ]
    },
    {
      "cell_type": "markdown",
      "metadata": {
        "id": "mxRyHq3fg0W5"
      },
      "source": [
        ""
      ]
    },
    {
      "cell_type": "markdown",
      "metadata": {
        "id": "C5HhtSaF6xWy"
      },
      "source": [
        "###2.3.2. 중적분"
      ]
    },
    {
      "cell_type": "markdown",
      "metadata": {
        "id": "OqFyqpp4g1VE"
      },
      "source": [
        "####2.3.2.0. How To Using?"
      ]
    },
    {
      "cell_type": "markdown",
      "metadata": {
        "id": "MrZm4Bdkg1VF"
      },
      "source": [
        ""
      ]
    },
    {
      "cell_type": "markdown",
      "metadata": {
        "id": "5XwAYW6Pg1VF"
      },
      "source": [
        "####2.3.2.1. Example"
      ]
    },
    {
      "cell_type": "markdown",
      "metadata": {
        "id": "p3Az5HlEg1VF"
      },
      "source": [
        ""
      ]
    },
    {
      "cell_type": "markdown",
      "metadata": {
        "id": "mXriHNQLg1VG"
      },
      "source": [
        "####2.3.2.2. Definition"
      ]
    },
    {
      "cell_type": "markdown",
      "metadata": {
        "id": "XdsAshU9g1VG"
      },
      "source": [
        ""
      ]
    },
    {
      "cell_type": "markdown",
      "metadata": {
        "id": "ibgB94oPg1VG"
      },
      "source": [
        "####2.3.2.3. Exercise"
      ]
    },
    {
      "cell_type": "markdown",
      "metadata": {
        "id": "aDrUam_Pg1VH"
      },
      "source": [
        ""
      ]
    },
    {
      "cell_type": "markdown",
      "metadata": {
        "id": "jlrzKzDvdhIB"
      },
      "source": [
        "##2.4. 최적화"
      ]
    },
    {
      "cell_type": "markdown",
      "metadata": {
        "id": "yC0HY4MI7F14"
      },
      "source": [
        "###2.4.1. 선형회귀"
      ]
    },
    {
      "cell_type": "markdown",
      "metadata": {
        "id": "-qIBTg327ayv"
      },
      "source": [
        "####2.4.1.1. 선형회귀 모델"
      ]
    },
    {
      "cell_type": "markdown",
      "metadata": {
        "id": "atQP8QlofXlz"
      },
      "source": [
        "#####2.4.1.1.0. How To Using?"
      ]
    },
    {
      "cell_type": "markdown",
      "metadata": {
        "id": "Qtqg_IJnfXl0"
      },
      "source": [
        ""
      ]
    },
    {
      "cell_type": "markdown",
      "metadata": {
        "id": "-5A5MZtKfXl0"
      },
      "source": [
        "#####2.4.1.1.1. Example"
      ]
    },
    {
      "cell_type": "markdown",
      "metadata": {
        "id": "1qLblmESfXl0"
      },
      "source": [
        ""
      ]
    },
    {
      "cell_type": "markdown",
      "metadata": {
        "id": "vOM-cYtafXl1"
      },
      "source": [
        "#####2.4.1.1.2. Definition"
      ]
    },
    {
      "cell_type": "markdown",
      "metadata": {
        "id": "cydHr2YOfXl1"
      },
      "source": [
        ""
      ]
    },
    {
      "cell_type": "markdown",
      "metadata": {
        "id": "JpyVRbrrfXl1"
      },
      "source": [
        "#####2.4.1.1.3. Exercise"
      ]
    },
    {
      "cell_type": "markdown",
      "metadata": {
        "id": "XDEcQteDfXl1"
      },
      "source": [
        ""
      ]
    },
    {
      "cell_type": "markdown",
      "metadata": {
        "id": "0gwksVsS7f0w"
      },
      "source": [
        "####2.4.1.2. 최소제곱 오차"
      ]
    },
    {
      "cell_type": "markdown",
      "metadata": {
        "id": "4PVNV8LdfWqJ"
      },
      "source": [
        "#####2.4.1.2.0. How To Using?"
      ]
    },
    {
      "cell_type": "markdown",
      "metadata": {
        "id": "OXxQt2sefWqJ"
      },
      "source": [
        ""
      ]
    },
    {
      "cell_type": "markdown",
      "metadata": {
        "id": "lqI1rjTJfWqJ"
      },
      "source": [
        "#####2.4.1.2.1. Example"
      ]
    },
    {
      "cell_type": "markdown",
      "metadata": {
        "id": "tpg2NbkZfWqJ"
      },
      "source": [
        ""
      ]
    },
    {
      "cell_type": "markdown",
      "metadata": {
        "id": "9QUFLmBRfWqJ"
      },
      "source": [
        "#####2.4.1.2.2. Definition"
      ]
    },
    {
      "cell_type": "markdown",
      "metadata": {
        "id": "djfpZeurfWqJ"
      },
      "source": [
        ""
      ]
    },
    {
      "cell_type": "markdown",
      "metadata": {
        "id": "-xx4cZ_8fWqJ"
      },
      "source": [
        "#####2.4.1.2.3. Exercise"
      ]
    },
    {
      "cell_type": "markdown",
      "metadata": {
        "id": "rTjFtVoGfWqK"
      },
      "source": [
        ""
      ]
    },
    {
      "cell_type": "markdown",
      "metadata": {
        "id": "dkdQ3QIi7j2Y"
      },
      "source": [
        "####2.4.1.3. 정규화"
      ]
    },
    {
      "cell_type": "markdown",
      "metadata": {
        "id": "rm_KcpokfWCw"
      },
      "source": [
        "#####2.4.1.3.0. How To Using?"
      ]
    },
    {
      "cell_type": "markdown",
      "metadata": {
        "id": "OiR8slyKfWCw"
      },
      "source": [
        ""
      ]
    },
    {
      "cell_type": "markdown",
      "metadata": {
        "id": "mWDxn314fWCw"
      },
      "source": [
        "#####2.4.1.3.1. Example"
      ]
    },
    {
      "cell_type": "markdown",
      "metadata": {
        "id": "TT4mYhm0fWCw"
      },
      "source": [
        ""
      ]
    },
    {
      "cell_type": "markdown",
      "metadata": {
        "id": "knlTNGl7fWCw"
      },
      "source": [
        "#####2.4.1.3.2. Definition"
      ]
    },
    {
      "cell_type": "markdown",
      "metadata": {
        "id": "-81dhJxnfWCx"
      },
      "source": [
        ""
      ]
    },
    {
      "cell_type": "markdown",
      "metadata": {
        "id": "uIdPRLGNfWCx"
      },
      "source": [
        "#####2.4.1.3.3. Exercise"
      ]
    },
    {
      "cell_type": "markdown",
      "metadata": {
        "id": "WkYp0sIOfWCx"
      },
      "source": [
        ""
      ]
    },
    {
      "cell_type": "markdown",
      "metadata": {
        "id": "9CJhZ8-YhHQ-"
      },
      "source": [
        "###2.4.2. 이미지 인식"
      ]
    },
    {
      "cell_type": "markdown",
      "metadata": {
        "id": "jvdenWW07wBh"
      },
      "source": [
        "####2.4.2.1. 순전파"
      ]
    },
    {
      "cell_type": "markdown",
      "metadata": {
        "id": "oTmUWeb_fVRg"
      },
      "source": [
        "#####2.4.2.1.0. How To Using?"
      ]
    },
    {
      "cell_type": "markdown",
      "metadata": {
        "id": "_TMCalDOfVRg"
      },
      "source": [
        ""
      ]
    },
    {
      "cell_type": "markdown",
      "metadata": {
        "id": "VCOxpYIYfVRg"
      },
      "source": [
        "#####2.4.2.1.1. Example"
      ]
    },
    {
      "cell_type": "markdown",
      "metadata": {
        "id": "KpvyNOChfVRg"
      },
      "source": [
        ""
      ]
    },
    {
      "cell_type": "markdown",
      "metadata": {
        "id": "ZCSg89HmfVRg"
      },
      "source": [
        "#####2.4.2.1.2. Definition"
      ]
    },
    {
      "cell_type": "markdown",
      "metadata": {
        "id": "kaOiLHyofVRh"
      },
      "source": [
        ""
      ]
    },
    {
      "cell_type": "markdown",
      "metadata": {
        "id": "KwZcw0lXfVRh"
      },
      "source": [
        "#####2.4.2.1.3. Exercise"
      ]
    },
    {
      "cell_type": "markdown",
      "metadata": {
        "id": "BDgTWkQHfVRh"
      },
      "source": [
        ""
      ]
    },
    {
      "cell_type": "markdown",
      "metadata": {
        "id": "sr7Yrs2y70I_"
      },
      "source": [
        "####2.4.2.2. 손실함수"
      ]
    },
    {
      "cell_type": "markdown",
      "metadata": {
        "id": "D6k1D2kofUJt"
      },
      "source": [
        "#####2.4.2.2.0. How To Using?"
      ]
    },
    {
      "cell_type": "markdown",
      "metadata": {
        "id": "mE-KxMazfUJt"
      },
      "source": [
        ""
      ]
    },
    {
      "cell_type": "markdown",
      "metadata": {
        "id": "3aEuL11ofUJt"
      },
      "source": [
        "#####2.4.2.2.1. Example"
      ]
    },
    {
      "cell_type": "markdown",
      "metadata": {
        "id": "wBCIIfdpfUJt"
      },
      "source": [
        ""
      ]
    },
    {
      "cell_type": "markdown",
      "metadata": {
        "id": "QiipmWGcfUJt"
      },
      "source": [
        "##### 2.4.2.3.2. Definition"
      ]
    },
    {
      "cell_type": "markdown",
      "metadata": {
        "id": "y5fRRTMvfUJu"
      },
      "source": [
        ""
      ]
    },
    {
      "cell_type": "markdown",
      "metadata": {
        "id": "6YQyWKVbfUJu"
      },
      "source": [
        "#####2.4.2.2.3. Exercise"
      ]
    },
    {
      "cell_type": "markdown",
      "metadata": {
        "id": "GTgfIS_6fUJu"
      },
      "source": [
        ""
      ]
    },
    {
      "cell_type": "markdown",
      "metadata": {
        "id": "ZLzHnove72iB"
      },
      "source": [
        "####2.4.2.3. 경사하강법"
      ]
    },
    {
      "cell_type": "markdown",
      "metadata": {
        "id": "84PjaP8uErYk"
      },
      "source": [
        "#####2.4.2.3.0. How To Using?"
      ]
    },
    {
      "cell_type": "markdown",
      "metadata": {
        "id": "BUkC024ME35m"
      },
      "source": [
        ""
      ]
    },
    {
      "cell_type": "markdown",
      "metadata": {
        "id": "qJCuK_xBErYk"
      },
      "source": [
        "#####2.4.2.3.1. Example"
      ]
    },
    {
      "cell_type": "markdown",
      "metadata": {
        "id": "RbAClNALE4nq"
      },
      "source": [
        ""
      ]
    },
    {
      "cell_type": "markdown",
      "metadata": {
        "id": "oFVNetF4ErYk"
      },
      "source": [
        "##### 2.4.2.3.2. Definition"
      ]
    },
    {
      "cell_type": "markdown",
      "metadata": {
        "id": "0P5TsoHwE5QN"
      },
      "source": [
        ""
      ]
    },
    {
      "cell_type": "markdown",
      "metadata": {
        "id": "b1ApdMf_ErYk"
      },
      "source": [
        "#####2.4.2.3.3. Exercise"
      ]
    },
    {
      "cell_type": "markdown",
      "metadata": {
        "id": "Ta2OaLuqE6ED"
      },
      "source": [
        ""
      ]
    },
    {
      "cell_type": "markdown",
      "metadata": {
        "id": "niQvdTxk75q4"
      },
      "source": [
        "####2.4.2.4. 오차역전파법"
      ]
    },
    {
      "cell_type": "markdown",
      "metadata": {
        "id": "_K_-RHPH79GG"
      },
      "source": [
        "#####2.4.2.4.0. How To Using?"
      ]
    },
    {
      "cell_type": "markdown",
      "metadata": {
        "id": "Z2d2KnkwE7a7"
      },
      "source": [
        ""
      ]
    },
    {
      "cell_type": "markdown",
      "metadata": {
        "id": "_42kyBqhEU_E"
      },
      "source": [
        "#####2.4.2.4.1. Example"
      ]
    },
    {
      "cell_type": "markdown",
      "metadata": {
        "id": "XnCJ2qV-E8OD"
      },
      "source": [
        ""
      ]
    },
    {
      "cell_type": "markdown",
      "metadata": {
        "id": "ydaV8xrNEU_E"
      },
      "source": [
        "##### 2.4.2.4.2. Definition"
      ]
    },
    {
      "cell_type": "markdown",
      "metadata": {
        "id": "yKTHi4Z6E82Q"
      },
      "source": [
        ""
      ]
    },
    {
      "cell_type": "markdown",
      "metadata": {
        "id": "oLQM8hcgEU_F"
      },
      "source": [
        "#####2.4.2.4.3. Exercise"
      ]
    },
    {
      "cell_type": "markdown",
      "metadata": {
        "id": "ieVxCYR5E9ls"
      },
      "source": [
        ""
      ]
    },
    {
      "cell_type": "markdown",
      "metadata": {
        "id": "fwR8WU6ucr3T"
      },
      "source": [
        "___\n",
        "# 3. 인공지능과 확률, 통계"
      ]
    },
    {
      "cell_type": "markdown",
      "metadata": {
        "id": "d2jTP15nOXEc"
      },
      "source": [
        "- 통계 법칙을 어떻게 설명할까?\n",
        "- 불확실성을 어떻게 양적으로 측정할까?\n",
        "- 수많은 데이터의 특징들을 어떻게 알 수 있을까?"
      ]
    },
    {
      "cell_type": "markdown",
      "metadata": {
        "id": "grr_jI5ri2rm"
      },
      "source": [
        "##3.1. 확률"
      ]
    },
    {
      "cell_type": "markdown",
      "metadata": {
        "id": "N8h9GPJy75vt"
      },
      "source": [
        "###3.1.0. How To Using?"
      ]
    },
    {
      "cell_type": "markdown",
      "metadata": {
        "id": "g2JNvKj-EKcT"
      },
      "source": [
        ""
      ]
    },
    {
      "cell_type": "markdown",
      "metadata": {
        "id": "xkz5kgkdED4H"
      },
      "source": [
        "###3.1.1. Example"
      ]
    },
    {
      "cell_type": "markdown",
      "metadata": {
        "id": "2B1eaP12ELK7"
      },
      "source": [
        ""
      ]
    },
    {
      "cell_type": "markdown",
      "metadata": {
        "id": "IlQM6V_wED4I"
      },
      "source": [
        "### 3.1.2. Definition"
      ]
    },
    {
      "cell_type": "markdown",
      "metadata": {
        "id": "63sjtuGiEMET"
      },
      "source": [
        ""
      ]
    },
    {
      "cell_type": "markdown",
      "metadata": {
        "id": "yv6hqxrnED4I"
      },
      "source": [
        "###3.1.3. Exercise"
      ]
    },
    {
      "cell_type": "markdown",
      "metadata": {
        "id": "UUbADhcmEMzI"
      },
      "source": [
        ""
      ]
    },
    {
      "cell_type": "markdown",
      "metadata": {
        "id": "VqKf7lVj9W6v"
      },
      "source": [
        "##3.2. 확률변수와 확률분포"
      ]
    },
    {
      "cell_type": "markdown",
      "metadata": {
        "id": "qAfQlQWaQDk_"
      },
      "source": [
        "* 확률변수와 확률분포의 관계를 이해한다. "
      ]
    },
    {
      "cell_type": "markdown",
      "metadata": {
        "id": "WVydXAgx73Pv"
      },
      "source": [
        "###3.2.0. How To Using?"
      ]
    },
    {
      "cell_type": "markdown",
      "metadata": {
        "id": "zcUYwhJLENo_"
      },
      "source": [
        "데이터에서 얻은 결과값을 이산[연속]확률변수로 정하고, 이에 대응되는 이산[연속]확률분포를 구할 수 있다. 이를 활용하면 과거의 데이터를 기반으로 미래에 일어날 사건에 대한 확률을 구할 수 있다. "
      ]
    },
    {
      "cell_type": "markdown",
      "metadata": {
        "id": "zCd6Y0DRD6BF"
      },
      "source": [
        "###3.2.1. Example"
      ]
    },
    {
      "cell_type": "markdown",
      "metadata": {
        "id": "52cL74MCEOWj"
      },
      "source": [
        "한 개의 주사위 던졌을 때, 3의 눈이 나오면 경기에서 이긴다. \n",
        "\n",
        "(1) 2번째 이길 확률을 구하시오. \n",
        "\n",
        "(2) 6번 시행한 확률분포를 히스토그램을 나타내시오. "
      ]
    },
    {
      "cell_type": "code",
      "metadata": {
        "id": "bu6d2eFhSJrf"
      },
      "source": [
        ""
      ],
      "execution_count": null,
      "outputs": []
    },
    {
      "cell_type": "markdown",
      "metadata": {
        "id": "KREZjMzHD6BF"
      },
      "source": [
        "### 3.2.2. Definition"
      ]
    },
    {
      "cell_type": "markdown",
      "metadata": {
        "id": "xVRn8k8FEPyY"
      },
      "source": [
        ""
      ]
    },
    {
      "cell_type": "markdown",
      "metadata": {
        "id": "haByjMWCD6BF"
      },
      "source": [
        "###3.2.3. Exercise"
      ]
    },
    {
      "cell_type": "markdown",
      "metadata": {
        "id": "GD0tqCm5EQ50"
      },
      "source": [
        ""
      ]
    },
    {
      "cell_type": "markdown",
      "metadata": {
        "id": "6mUNw3QM9aWG"
      },
      "source": [
        "##3.3. 곱의 확률(Join Probability)과 조건부확률(conditional probability)"
      ]
    },
    {
      "cell_type": "markdown",
      "metadata": {
        "id": "f7rsreX2N_KV"
      },
      "source": [
        "* 조건부확률과 곱의확률의 차이를 이해한다. \n",
        "\n",
        "* 조건부확률을 활용할 수 있다. "
      ]
    },
    {
      "cell_type": "markdown",
      "metadata": {
        "id": "dG3nP2_DDrz0"
      },
      "source": [
        "### 3.3.0. How To Using?"
      ]
    },
    {
      "cell_type": "markdown",
      "metadata": {
        "id": "OpMcHf4SDzS_"
      },
      "source": [
        "인공지능 모델의 예측 정확성을 표현하는 대표적인 지표이다.  "
      ]
    },
    {
      "cell_type": "markdown",
      "metadata": {
        "id": "IuHTgTGjDrz1"
      },
      "source": [
        "###3.3.1. Example"
      ]
    },
    {
      "cell_type": "markdown",
      "metadata": {
        "id": "7b2MMk8hDyws"
      },
      "source": [
        ""
      ]
    },
    {
      "cell_type": "markdown",
      "metadata": {
        "id": "xtOV_QyYDrz1"
      },
      "source": [
        "### 3.3.2. Definition"
      ]
    },
    {
      "cell_type": "markdown",
      "metadata": {
        "id": "QvhHrqMHDyNM"
      },
      "source": [
        "* 곱의 확률 : 두 사건 A, B가 독립일때, \n",
        "   $P\\left( A\\cap B\\right) =p\\left( A\\right) \\cdot P\\left( B\\right) $\n",
        "\n",
        "* 조건부확률 : 사건 B가 일어났을때, 사건 A가 일어날 확률은\n",
        "   $ P\\left(  A| B\\right) =\\dfrac{P\\left( A\\cap B\\right) }{P\\left( B\\right) }$"
      ]
    },
    {
      "cell_type": "markdown",
      "metadata": {
        "id": "IdqQyR4ADrz1"
      },
      "source": [
        "###3.3.3. Exercise"
      ]
    },
    {
      "cell_type": "markdown",
      "metadata": {
        "id": "JdgmwTVqDxos"
      },
      "source": [
        ""
      ]
    },
    {
      "cell_type": "markdown",
      "metadata": {
        "id": "WcIB3M089lsG"
      },
      "source": [
        "##3.4. 기댓값[평균]"
      ]
    },
    {
      "cell_type": "markdown",
      "metadata": {
        "id": "anfAyVfWLe0K"
      },
      "source": [
        "* 평균을 계산할 수 있다. "
      ]
    },
    {
      "cell_type": "markdown",
      "metadata": {
        "id": "UqKmLWj-DgKz"
      },
      "source": [
        "### 3.4.0. How To Using?"
      ]
    },
    {
      "cell_type": "markdown",
      "metadata": {
        "id": "tCApNpkvD0JK"
      },
      "source": [
        ""
      ]
    },
    {
      "cell_type": "markdown",
      "metadata": {
        "id": "HAo8ErTjDgK0"
      },
      "source": [
        "###3.4.1. Example"
      ]
    },
    {
      "cell_type": "markdown",
      "metadata": {
        "id": "oli82QHvD0qG"
      },
      "source": [
        "1등 상금이 10만원인 복권이 1장, 2등 상금이 만원인 복권이 2장, 3등 상금이 1000원인 복권이 10장 있다. 이 복권의 총판매량이 100장일때, 복권 1장에 대한 기대할 수 있는 당첨금액은?"
      ]
    },
    {
      "cell_type": "markdown",
      "metadata": {
        "id": "f3CTjbqxDgK0"
      },
      "source": [
        "### 3.4.2. Definition"
      ]
    },
    {
      "cell_type": "markdown",
      "metadata": {
        "id": "0Wh4zzrUD1LN"
      },
      "source": [
        "* 평균 : $m= E\\left( x\\right) =\\sum ^{n}_{k=1}\\dfrac{1}{n}\\cdot x_{k}=\\dfrac{1}{n}\\sum ^{n}_{k=1}x_{k}$"
      ]
    },
    {
      "cell_type": "markdown",
      "metadata": {
        "id": "DnBEtjWmL3ng"
      },
      "source": [
        "* 성질 : $E\\left( aX+b\\right) =aE\\left( X\\right) +b$"
      ]
    },
    {
      "cell_type": "markdown",
      "metadata": {
        "id": "aHFPEGa5DgK0"
      },
      "source": [
        "###3.4.3. Exercise"
      ]
    },
    {
      "cell_type": "markdown",
      "metadata": {
        "id": "2i0A715zD2FO"
      },
      "source": [
        ""
      ]
    },
    {
      "cell_type": "markdown",
      "metadata": {
        "id": "2sXz5VtJ9olA"
      },
      "source": [
        "##3.5. 평균과 분산, 공분산"
      ]
    },
    {
      "cell_type": "markdown",
      "metadata": {
        "id": "lIYapd7uGPFy"
      },
      "source": [
        "*  분산, 공분산을 계산할 수 있다. "
      ]
    },
    {
      "cell_type": "markdown",
      "metadata": {
        "id": "CbxzDH4QDPWA"
      },
      "source": [
        "### 3.5.0. How To Using?"
      ]
    },
    {
      "cell_type": "markdown",
      "metadata": {
        "id": "Jz8MchVBDWhL"
      },
      "source": [
        "주어진 데이터의 속성을 파악하는 도구로 분산, 표준편차를 사용하며 이를 활용하여 새로운 인공지능 모델을 개발한다."
      ]
    },
    {
      "cell_type": "markdown",
      "metadata": {
        "id": "29eYRcsBDPWA"
      },
      "source": [
        "###3.5.1. Example"
      ]
    },
    {
      "cell_type": "markdown",
      "metadata": {
        "id": "7li73o3QDXKN"
      },
      "source": [
        ""
      ]
    },
    {
      "cell_type": "markdown",
      "metadata": {
        "id": "ZklsFLvyDPWB"
      },
      "source": [
        "### 3.5.2. Definition"
      ]
    },
    {
      "cell_type": "markdown",
      "metadata": {
        "id": "V8qEJXdRDYDd"
      },
      "source": [
        "\n",
        "\n",
        "* 분산 : $\\sigma ^{2}=\\dfrac{1}{n}\\sum ^{n}_{k=1}\\left( x_{k}-m \\right) ^{2}$\n",
        "\n",
        "* 표준편차 : $\\sigma =\\sqrt{\\sigma ^{2}}=\\sqrt{\\dfrac{1}{n}\\sum ^{n}_{k=1}\\left( x_{k}-m\\right) ^{2}}$ \n",
        "\n",
        "   \n",
        "* 공분산 = $Cov\\left( X,Y\\right) =\\dfrac{1}{n}\\sum ^{n}_{k=1}\\left( x_{k}-m_{x}\\right) \\left( y_{k}-m_{y}\\right)  $"
      ]
    },
    {
      "cell_type": "markdown",
      "metadata": {
        "id": "PGWaAvjYDPWB"
      },
      "source": [
        "###3.5.3. Exercise"
      ]
    },
    {
      "cell_type": "markdown",
      "metadata": {
        "id": "AVtzqy2IDYwL"
      },
      "source": [
        ""
      ]
    },
    {
      "cell_type": "markdown",
      "metadata": {
        "id": "ILpS2yxH9udg"
      },
      "source": [
        "##3.6. 상관계수(correlation coefficient)"
      ]
    },
    {
      "cell_type": "markdown",
      "metadata": {
        "id": "qRdfjoF1Cmae"
      },
      "source": [
        "### 3.6.0. How To Using?"
      ]
    },
    {
      "cell_type": "markdown",
      "metadata": {
        "id": "Shzt4yQxzbCu"
      },
      "source": [
        "\n",
        "빅데이터 분석에서 상관계수를 활용하면 데이터의 숨은 의미와 특성을 찾을 수 있으며, 이를 활용할 수 있다. "
      ]
    },
    {
      "cell_type": "markdown",
      "metadata": {
        "id": "oNW1hAqvCmaf"
      },
      "source": [
        "###3.6.1. Example"
      ]
    },
    {
      "cell_type": "code",
      "metadata": {
        "colab": {
          "base_uri": "https://localhost:8080/"
        },
        "id": "HFLWo75G6aqN",
        "outputId": "2f94b9d8-b712-4166-b26d-fd977f485449"
      },
      "source": [
        "z = [-3, -2, -1, 0, 1, 2, 3]\n",
        "w = [9, 4, 1, 0, 1, 4, 9]\n",
        "\n",
        "np.corrcoef(z, w)[0, 1]"
      ],
      "execution_count": null,
      "outputs": [
        {
          "output_type": "execute_result",
          "data": {
            "text/plain": [
              "0.0"
            ]
          },
          "metadata": {
            "tags": []
          },
          "execution_count": 4
        }
      ]
    },
    {
      "cell_type": "markdown",
      "metadata": {
        "id": "p9m2FuQBCmaf"
      },
      "source": [
        "### 3.6.2. Definition"
      ]
    },
    {
      "cell_type": "markdown",
      "metadata": {
        "id": "0t8odnvu1e61"
      },
      "source": [
        "\n",
        "* 두 변수가 함께 변하는 정도를 -1 ~ 1 범위의 수로 나타낸 것\n",
        "* $\\rho =\\dfrac{\\sigma _{xy}}{\\sigma _{x}\\sigma _{y}}$  \n",
        "$ \\rho\\ $ : 상관계수\n",
        "\n",
        "   $\\rho _{xy}$ : X, Y의 공분산\n",
        "\n",
        "   $\\rho _{x} ,  \\rho _{y}$ : X, Y의 표준편차"
      ]
    },
    {
      "cell_type": "code",
      "metadata": {
        "id": "RM8hdksy2fE0"
      },
      "source": [
        "# 상관계수 구하는 파이선 코딩\n",
        "import numpy as np\n",
        "# 공분산\n",
        "cov = np.cov(x, y)[0, 1]  \n",
        "# x의 표본표준편차\n",
        "xsd = np.std(x, ddof=1)   \n",
        "# y의 표본표준편차\n",
        "ysd = np.std(y, ddof=1)  \n",
        "# x, y의 상관계수\n",
        "cov / ( xsd * ysd )"
      ],
      "execution_count": null,
      "outputs": []
    },
    {
      "cell_type": "markdown",
      "metadata": {
        "id": "lr-LtNjaCmaf"
      },
      "source": [
        "###3.6.3. Exercise"
      ]
    },
    {
      "cell_type": "markdown",
      "metadata": {
        "id": "C1yFrzE19xH-"
      },
      "source": [
        "##3.7. 최대가능도추정"
      ]
    },
    {
      "cell_type": "markdown",
      "metadata": {
        "id": "0kPcQOeFAS6f"
      },
      "source": [
        "### 3.7.0. How To Using?"
      ]
    },
    {
      "cell_type": "markdown",
      "metadata": {
        "id": "mJP0P733CDj7"
      },
      "source": [
        ""
      ]
    },
    {
      "cell_type": "markdown",
      "metadata": {
        "id": "8nJig1zMAS6f"
      },
      "source": [
        "###3.7.1. Example"
      ]
    },
    {
      "cell_type": "markdown",
      "metadata": {
        "id": "BKOMO7PyBhn8"
      },
      "source": [
        " 동전을 10번 던져서 앞면이  6번 나왔다고 가정하자. 이때, \n",
        "\n",
        "(1) 확률  :  $ \\dfrac{6}{10}=0.6 $\n",
        "\n",
        "(2) 가능도 : $10 C 6\\times \\left( \\dfrac{1}{2}\\right) ^{6}\\times \\left( \\dfrac{1}{2}\\right) ^{4} =0.0012$\n"
      ]
    },
    {
      "cell_type": "markdown",
      "metadata": {
        "id": "lQSN6N5PAS6g"
      },
      "source": [
        "### 3.7.2. Definition"
      ]
    },
    {
      "cell_type": "markdown",
      "metadata": {
        "id": "VzZ1NbM-Bm5l"
      },
      "source": [
        "확률밀도함수에서 모수를 변수로 보는 함수를 가능도함수(Likeligood Function)라 한다. \n",
        "\n",
        " 가능도함수에 로그함수를 씌우면 계산이 편리해지는데, 이를 로그가능도함수(Log-Likeligood Function)라고 한다.  \n",
        "\n",
        "$L\\left( \\theta ;y\\right) =f\\left(  \\theta | y\\right) $\n",
        "\n",
        "$L\\left( \\theta ;y_{1},y_{2},\\ldots ,y_{n}\\right) =\\prod ^{n}_{i=1}f\\left(  \\theta | y_{1},y_{2},\\ldots y_{n}\\right) $"
      ]
    },
    {
      "cell_type": "markdown",
      "metadata": {
        "id": "aAz9j8IiAS6g"
      },
      "source": [
        "###3.7.3. Exercise"
      ]
    },
    {
      "cell_type": "markdown",
      "metadata": {
        "id": "TmPqbbutCCXV"
      },
      "source": [
        ""
      ]
    },
    {
      "cell_type": "markdown",
      "metadata": {
        "id": "-VpWbqk6dn2Y"
      },
      "source": [
        "##3.8. 베이즈정리"
      ]
    },
    {
      "cell_type": "markdown",
      "metadata": {
        "id": "IOAhWDwLAJ2p"
      },
      "source": [
        "### 3.8.0. How To Using?"
      ]
    },
    {
      "cell_type": "markdown",
      "metadata": {
        "id": "8qSAZqMjAJ2p"
      },
      "source": [
        "###3.8.1. Example"
      ]
    },
    {
      "cell_type": "markdown",
      "metadata": {
        "id": "KVfZKLuEAJ2p"
      },
      "source": [
        "### 3.8.2. Definition"
      ]
    },
    {
      "cell_type": "markdown",
      "metadata": {
        "id": "rueBdcm-AJ2p"
      },
      "source": [
        "###3.8.3. Exercise"
      ]
    },
    {
      "cell_type": "markdown",
      "metadata": {
        "id": "zI1kbIuNd8GI"
      },
      "source": [
        "## 3.9. 최소제곱오차"
      ]
    },
    {
      "cell_type": "markdown",
      "metadata": {
        "id": "957R8Al3_4vF"
      },
      "source": [
        "### 3.9.0. How To Using?"
      ]
    },
    {
      "cell_type": "markdown",
      "metadata": {
        "id": "8Y1nLRef_4vF"
      },
      "source": [
        "###3.9.1. Example"
      ]
    },
    {
      "cell_type": "markdown",
      "metadata": {
        "id": "oY9KyreQ_4vG"
      },
      "source": [
        "### 3.9.2. Definition"
      ]
    },
    {
      "cell_type": "markdown",
      "metadata": {
        "id": "wMCm373W_4vG"
      },
      "source": [
        "###3.9.3. Exercise"
      ]
    },
    {
      "cell_type": "markdown",
      "metadata": {
        "id": "vAogSJr0-Qme"
      },
      "source": [
        "##3.10. 가설검정"
      ]
    },
    {
      "cell_type": "markdown",
      "metadata": {
        "id": "h9z-7SC9-Ih_"
      },
      "source": [
        "### 3.10.0. How To Using?"
      ]
    },
    {
      "cell_type": "markdown",
      "metadata": {
        "id": "nFuYgaeK_OaG"
      },
      "source": [
        "###3.10.1. Example"
      ]
    },
    {
      "cell_type": "markdown",
      "metadata": {
        "id": "D7otoLxR-PDW"
      },
      "source": [
        "### 3.10.2. Definition"
      ]
    },
    {
      "cell_type": "markdown",
      "metadata": {
        "id": "wHr5lPJEy6qm"
      },
      "source": [
        "###3.10.3. Exercise"
      ]
    },
    {
      "cell_type": "markdown",
      "metadata": {
        "id": "6SUOzHoxgpIj"
      },
      "source": [
        "#🐉 심화편"
      ]
    },
    {
      "cell_type": "markdown",
      "metadata": {
        "id": "iEuoZLwvg27r"
      },
      "source": [
        "# 🐊 Python & Colap"
      ]
    },
    {
      "cell_type": "markdown",
      "metadata": {
        "id": "Ia6NWPLXe1fT"
      },
      "source": [
        "___\n",
        "# 부록 [Python 사용안내]"
      ]
    },
    {
      "cell_type": "markdown",
      "metadata": {
        "id": "zVUoyack-o3G"
      },
      "source": [
        ""
      ]
    },
    {
      "cell_type": "markdown",
      "metadata": {
        "id": "SFM3eY5uYX-A"
      },
      "source": [
        "# 참고문헌"
      ]
    },
    {
      "cell_type": "markdown",
      "metadata": {
        "id": "sn5h2MBsYagJ"
      },
      "source": [
        "1. 이시카와아키히코,(2018년), 인공지능을 위한 수학, 프리렉"
      ]
    },
    {
      "cell_type": "markdown",
      "metadata": {
        "id": "L8bQXJ84ZU9o"
      },
      "source": [
        "단행본\n",
        "Æ 저자. (발행년). 서명. (판사항). 발행지: 발행사.\n",
        "\n",
        "\n",
        "학술지\n",
        "Æ 저자. (발행년). 논문명. 자료(저널)명, 권(호), 수록 면수.\n",
        "\n",
        "\n",
        "학위논문\n",
        "Æ 저자. (수여년). 논문명 (학위명). 수여기관명, 소재지.\n"
      ]
    }
  ]
}
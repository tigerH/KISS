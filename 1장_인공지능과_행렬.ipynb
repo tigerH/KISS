{
  "nbformat": 4,
  "nbformat_minor": 0,
  "metadata": {
    "colab": {
      "name": "1장. 인공지능과 행렬",
      "provenance": [],
      "collapsed_sections": [],
      "authorship_tag": "ABX9TyOHYA0v1aYAluxgNpDrWLUi",
      "include_colab_link": true
    },
    "kernelspec": {
      "name": "python3",
      "display_name": "Python 3"
    },
    "language_info": {
      "name": "python"
    }
  },
  "cells": [
    {
      "cell_type": "markdown",
      "metadata": {
        "id": "view-in-github",
        "colab_type": "text"
      },
      "source": [
        "<a href=\"https://colab.research.google.com/github/tigerH/KISS/blob/main/1%EC%9E%A5_%EC%9D%B8%EA%B3%B5%EC%A7%80%EB%8A%A5%EA%B3%BC_%ED%96%89%EB%A0%AC.ipynb\" target=\"_parent\"><img src=\"https://colab.research.google.com/assets/colab-badge.svg\" alt=\"Open In Colab\"/></a>"
      ]
    },
    {
      "cell_type": "markdown",
      "metadata": {
        "id": "eSDD_jyz_frf"
      },
      "source": [
        "# 여러 가지 함수 그리기"
      ]
    },
    {
      "cell_type": "code",
      "metadata": {
        "id": "KzhaYsQi_fEK"
      },
      "source": [
        "from sympy.plotting import plot\n",
        "from sympy import Symbol\n",
        "x = Symbol('x')\n",
        "plot(2*x+3, 3*x+1)"
      ],
      "execution_count": null,
      "outputs": []
    },
    {
      "cell_type": "code",
      "metadata": {
        "id": "ic2RlyTQAi9A"
      },
      "source": [
        "from sympy.plotting import plot\n",
        "from sympy import Symbol\n",
        "x = Symbol('x')\n",
        "p=plot(2*x+3, 3*x+1, legend=True, show=False)\n",
        "p[0].line_color = 'b'\n",
        "p[0].line_color = 'r'\n",
        "p.show()"
      ],
      "execution_count": null,
      "outputs": []
    },
    {
      "cell_type": "markdown",
      "metadata": {
        "id": "pj54JYiT7pRg"
      },
      "source": [
        "\n",
        "# 역행렬\n",
        "*   det(A)=ad-bc가 0이 아니면, 역행렬이 존재\n",
        "*   역행렬이 존재하지 않으면 오류발생\n",
        "\n"
      ]
    },
    {
      "cell_type": "code",
      "metadata": {
        "id": "f6pKfKSq7y-f"
      },
      "source": [
        "import numpy as np  #numpy 라이브러리 호출\n",
        "\n",
        "A = np.matrix([[1,2],[3,4]])  # A에 2*2행렬 배치\n",
        "\n",
        "print(np.linalg.inv(A)) # np.linalg.inv(A)는 A행렬을 역행렬로 변환"
      ],
      "execution_count": null,
      "outputs": []
    },
    {
      "cell_type": "markdown",
      "metadata": {
        "id": "r5iDRVOB4BcW"
      },
      "source": [
        "# 고유값과 고유벡터구하기\n",
        "\n",
        "*  수학적 계산\n",
        "*  파이썬 계산\n",
        "\n",
        "다른 이유? 고유벡터를 표시할때, 길이가 1인 단위벡터가 되도록 정규화하기 때문\n",
        "\n",
        "\n",
        "\n"
      ]
    },
    {
      "cell_type": "code",
      "metadata": {
        "id": "YMxtgcTl5UNk"
      },
      "source": [
        "import numpy as np #numpy 라이브러리 호출\n",
        "\n",
        "a = np.array([[5,-1],[-2,1]])  #2차원 행렬 a\n",
        "\n",
        "w, v = np.linalg.eig(a)  #np.linalg.eig(a)는 고유값과 고유벡터 도출을 위한 함수\n",
        "\n",
        "print(w)\n",
        "print(v)"
      ],
      "execution_count": null,
      "outputs": []
    }
  ]
}
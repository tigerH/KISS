{
  "nbformat": 4,
  "nbformat_minor": 0,
  "metadata": {
    "colab": {
      "name": "특별주제_#04_복소수와 만델브로트집합",
      "provenance": [],
      "collapsed_sections": [],
      "authorship_tag": "ABX9TyPXLfySv2fxxLvvk9Erw855",
      "include_colab_link": true
    },
    "kernelspec": {
      "name": "python3",
      "display_name": "Python 3"
    },
    "language_info": {
      "name": "python"
    }
  },
  "cells": [
    {
      "cell_type": "markdown",
      "metadata": {
        "id": "view-in-github",
        "colab_type": "text"
      },
      "source": [
        "<a href=\"https://colab.research.google.com/github/tigerH/KISS/blob/main/%ED%8A%B9%EB%B3%84%EC%A3%BC%EC%A0%9C__04_%EB%B3%B5%EC%86%8C%EC%88%98%EC%99%80_%EB%A7%8C%EB%8D%B8%EB%B8%8C%EB%A1%9C%ED%8A%B8%EC%A7%91%ED%95%A9.ipynb\" target=\"_parent\"><img src=\"https://colab.research.google.com/assets/colab-badge.svg\" alt=\"Open In Colab\"/></a>"
      ]
    },
    {
      "cell_type": "markdown",
      "metadata": {
        "id": "FLrTGoGGaVAL"
      },
      "source": [
        "#복소수와 만델브로트 집합\n",
        "- 다음 유튜브 강의를 먼저 시청 하시면 이해에 도움이 됩니다. [김상욱교수특강](https://youtu.be/lVG2WzgoqGM?t=4226)\n",
        "\n",
        "#복소수\n",
        "- 파이썬에서 정수나, 실수등의 값을 다루는 경우 파이썬에서 알아서 수의 형태를 정하게 됩니다. 처음 파이썬을 사용하는 사용자가 따로 세팅을 해야 할 필요는 없습니다.\n",
        "- 그런데 복소수를 사용해야 하는 경우에는 따로 특별하게 선언을 해야 합니다."
      ]
    },
    {
      "cell_type": "code",
      "metadata": {
        "id": "_kriy1B8Z7Ci"
      },
      "source": [
        "#code 1 복소수 선언 Z1=1+i\n",
        "Z1=complex(1, 1)\n",
        "print(Z1)"
      ],
      "execution_count": null,
      "outputs": []
    },
    {
      "cell_type": "markdown",
      "metadata": {
        "id": "ETySxS56adZK"
      },
      "source": [
        "- Z1을 3번 줄에서 출력하면, <font color='yellow'>1+i</font> 가 아니라 <font color='yellow'>1+j</font>로 표시되는 것을 볼 수 있습니다. 공학 세계에서 전류를 나타내는 기호로 이미 <font color='yellow'>i</font>가 사용되고 있기 때문에, 프로그래밍의 세계에서는 일반적으로 허수단위를 <font color='yellow'>j</font>로 표시합니다."
      ]
    },
    {
      "cell_type": "markdown",
      "metadata": {
        "id": "7b2QrTHrahna"
      },
      "source": [
        "# 복소수의 연산\n",
        "- 복소수의 덧셈과 뺄셈은 다음과 같이 합니다."
      ]
    },
    {
      "cell_type": "code",
      "metadata": {
        "id": "OTrw08nHakOh"
      },
      "source": [
        "#code 2 복소수의 덧셈 뺄셈\n",
        "Z1=complex(1,2)\n",
        "Z2=complex(1, 1)\n",
        "\n",
        "Z3=Z1+Z2    #덧셈\n",
        "print(Z3)\n",
        "\n",
        "print(Z1-Z2)    #뺄셈"
      ],
      "execution_count": null,
      "outputs": []
    },
    {
      "cell_type": "markdown",
      "metadata": {
        "id": "9tQO68Ryam7L"
      },
      "source": [
        "- 복소수의 곱셈, 나눗셈은 다음과 같이 합니다."
      ]
    },
    {
      "cell_type": "code",
      "metadata": {
        "id": "Bk7y3Ufcapyy"
      },
      "source": [
        "#곱셈\n",
        "Z4=Z1*Z2\n",
        "print(Z4)\n",
        "\n",
        "#나눗셈\n",
        "print(Z1/Z2)"
      ],
      "execution_count": null,
      "outputs": []
    },
    {
      "cell_type": "markdown",
      "metadata": {
        "id": "o5HRRTL2aw7-"
      },
      "source": [
        "#복소수의 크기 혹은 절댓값\n",
        "- 복소수를 좌표 평면에 나타낼 수 있습니다.\n",
        "- 실수부와 허수부를 x, y 축으로 대응하여 표현할 수 있습니다.\n",
        "- 이때 복소수의 크기를 정의할 수 있는데, 원점에서 복소수에 대응하는 점까지의 거리를 복소수의 크기라고 합니다. 보통은 절댓값 기호를 사용하여 나타냅니다.\n",
        "- abs(Z1)= $|Z1|= \\sqrt{a_1 ^2+a_2^2}$"
      ]
    },
    {
      "cell_type": "code",
      "metadata": {
        "id": "rzsfrA7sa0Si"
      },
      "source": [
        "print(abs(Z1))"
      ],
      "execution_count": null,
      "outputs": []
    },
    {
      "cell_type": "markdown",
      "metadata": {
        "id": "TiIWaGaka2ni"
      },
      "source": [
        "#만델브로트 집합\n",
        "- 프랙탈 하면 가장 많이 나오는 예시가 만델브로트 집합입니다. 상당히 복잡해 보이지만, 생각보다 어렵지 않게 만들수 있고, 생성 원리도 비교적 간단합니다.<br>\n",
        "<img src='https://upload.wikimedia.org/wikipedia/commons/thumb/5/56/Mandelset_hires.png/300px-Mandelset_hires.png'><br>"
      ]
    },
    {
      "cell_type": "markdown",
      "metadata": {
        "id": "CVaQHvPda6O6"
      },
      "source": [
        "#복소수와 만델브로트 집합 생성 기본 원리\n",
        " - 복소수 Z에 대해서 다음 식을 고려해 봅시다. \n",
        " - $Z_{n+1}=Z_{n}^2+C$\n",
        " - 여기에서 $C$는 상수인 복소수 입니다. \n",
        " - 복소수 $Z_{n}$을 제곱하고, 상수 $C$를 더하여 새로운 복소수 $Z_{n+1}$을 만듭니다.\n",
        " - 이 때, 복소수 $Z_{n}$의 크기가 발산하는 경우와(계속하여 커지는), 수렴하는(특정한 값에 다가가는 경우) 경우로 나눌 수 있습니다. 이 경우는 $Z_{n}$의 초깃값에 따라 발산, 수렴 여부가 정해집니다.\n",
        " - 만델브로트 집합은 복소평면상의 일정 영역을 격자로 쪼개고, 각 격자의 위치에 대응하는 복소수를 이용하여 하나하나 수렴,발산 여부를 판정합니다."
      ]
    },
    {
      "cell_type": "markdown",
      "metadata": {
        "id": "T5_-Wt_ra9_S"
      },
      "source": [
        "#만델브로트 집합에서 복소수의 수렴 발산 판정\n",
        "- 발산하는지의 여부는 $Z_{n}$의 크기(절댓값)이 2보다 크면 발산, 그렇지 않으면 수렴으로 판정합니다. \n",
        "- 수렴, 발산 판정은, $Z_{n}$의 크기가 2보다 커지기 시작하면 발산이라고 정하고, 이 단계를($n$)을 저장합니다.\n",
        "- 또한, 계산을 한없이 반복하는 것을 방지하기 위해 최대 반복 계산 횟수(max_iter)를 정합니다.\n",
        "- $Z_{n+1}=Z_{n}^2+C$에서 상수 $C$는 좌표를 복소수로 설정한 값으로 하고, $Z_{1}$도 좌표를 복소수로 설정한 값으로 사용합니다."
      ]
    },
    {
      "cell_type": "code",
      "metadata": {
        "id": "Syg-HDqpbCnq"
      },
      "source": [
        "#사용할 모듈 불러오기\n",
        "import numpy as np\n",
        "import matplotlib.cm as cm\n",
        "import matplotlib.pyplot as plt\n",
        "\n",
        "#반복횟수 계산하는 함수\n",
        "#C 복소수 초기값\n",
        "#max_iter - 최대 반복횟수입니다. \n",
        "#너무 크면 계산 시간이 많이 걸리고, \n",
        "#너무 작으면 그래픽 모양이 어색하게 나옵니다.\n",
        "def iter_count(C, max_iter):\n",
        "    X=C\n",
        "    for n in range(max_iter):\n",
        "        #복소수의 크기가 2보다 크면 계산을 멈추고, 반복횟수를 반환합니다.\n",
        "        if abs(X)>2.:\n",
        "            return n\n",
        "        X=X**2+C            #새로운 복소수 단계 생성식. 현재 복소수를 제곱한 다음에 초기값 C를 더하여 새로운 복소수를 만듭니다.\n",
        "    return max_iter         #최대 단계까지 반복해도 계산이 끝나지 않은 경우에 max_iter를 반환\n",
        "\n",
        "N=1024\n",
        "max_iter = 256                              #최대 반복횟수\n",
        "xmin, xmax, ymin, ymax = -2.2,.8,-1.5,1.5   #계산할 복소평면의 영역\n",
        "X=np.linspace(xmin, xmax, N)                #x 방향 영역을 N개로 쪼갠 좌표를 일괄 생성합니다.\n",
        "Y=np.linspace(ymin, ymax, N)                #y 방향 영역을 N개로 쪼갠 좌표를 일괄 생성합니다.\n",
        "Z=np.empty((N,N))                           #N*N 사이즈로 빈 numpy 배열을 생성. 수렴발산 단계 n을 좌표 평면의 각 영역에 대해 저장         \n",
        "\n",
        "#이중 반복문으로 y, x 축을 따라 복소수에 대하여 수렴발산을 계산합니다.\n",
        "#enumerate(Y)는 Y의 각 원소들에 대해 순서와, 값을 한번에 반환합니다.\n",
        "for i, y in enumerate(Y):\n",
        "    for j, x in enumerate(X):\n",
        "        Z[i,j]=iter_count(complex(x,y), max_iter)   #좌표상의 (x,y)를 복소수로 만들고, iter_count 계산 하여 Z에 저장\n",
        "\n",
        "plt.imshow(Z, cmap=cm.plasma)\n",
        "plt.show()"
      ],
      "execution_count": null,
      "outputs": []
    },
    {
      "cell_type": "markdown",
      "metadata": {
        "id": "vXGERFq7bPyB"
      },
      "source": [
        "  - 33번 줄의 cmap=cm.viridis 부분은 컬러맵이라고 하는 것입니다. 종류가 여러가지 있는데, 몇가지 컬러맵을 소개하겠습니다.\n",
        "  - 코드에서 twilight 만 아래 이름 중 하나로 바꾸면 됩니다 <br><br>\n",
        "  <img src='https://matplotlib.org/3.1.0/_images/sphx_glr_colormaps_001.png'>"
      ]
    }
  ]
}